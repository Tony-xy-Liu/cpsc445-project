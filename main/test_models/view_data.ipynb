{
 "cells": [
  {
   "cell_type": "code",
   "execution_count": 62,
   "metadata": {},
   "outputs": [],
   "source": [
    "import os, sys\n",
    "import numpy as np\n",
    "import pandas as pd\n",
    "from local.caching import load, save"
   ]
  },
  {
   "cell_type": "code",
   "execution_count": 63,
   "metadata": {},
   "outputs": [
    {
     "name": "stdout",
     "output_type": "stream",
     "text": [
      "recovering & decompressing cached data from [{WORKSPACE}/main/test_models/cache/biocyc_org.pandas.pkl.gz]\n"
     ]
    },
    {
     "data": {
      "text/html": [
       "<div>\n",
       "<style scoped>\n",
       "    .dataframe tbody tr th:only-of-type {\n",
       "        vertical-align: middle;\n",
       "    }\n",
       "\n",
       "    .dataframe tbody tr th {\n",
       "        vertical-align: top;\n",
       "    }\n",
       "\n",
       "    .dataframe thead th {\n",
       "        text-align: right;\n",
       "    }\n",
       "</style>\n",
       "<table border=\"1\" class=\"dataframe\">\n",
       "  <thead>\n",
       "    <tr style=\"text-align: right;\">\n",
       "      <th></th>\n",
       "      <th>pgdb</th>\n",
       "      <th>name</th>\n",
       "      <th>taxonomy</th>\n",
       "      <th>tier</th>\n",
       "    </tr>\n",
       "  </thead>\n",
       "  <tbody>\n",
       "    <tr>\n",
       "      <th>0</th>\n",
       "      <td>aracyc</td>\n",
       "      <td>Arabidopsis thaliana</td>\n",
       "      <td>NIL</td>\n",
       "      <td>1</td>\n",
       "    </tr>\n",
       "    <tr>\n",
       "      <th>1</th>\n",
       "      <td>metacyc</td>\n",
       "      <td>MetaCyc</td>\n",
       "      <td>NIL</td>\n",
       "      <td>1</td>\n",
       "    </tr>\n",
       "    <tr>\n",
       "      <th>2</th>\n",
       "      <td>ecocyc</td>\n",
       "      <td>Escherichia coli</td>\n",
       "      <td>511145</td>\n",
       "      <td>1</td>\n",
       "    </tr>\n",
       "    <tr>\n",
       "      <th>3</th>\n",
       "      <td>humancyc</td>\n",
       "      <td>Homo sapiens</td>\n",
       "      <td>9606</td>\n",
       "      <td>1</td>\n",
       "    </tr>\n",
       "    <tr>\n",
       "      <th>4</th>\n",
       "      <td>yeastcyc</td>\n",
       "      <td>Saccharomyces cerevisiae</td>\n",
       "      <td>559292</td>\n",
       "      <td>1</td>\n",
       "    </tr>\n",
       "    <tr>\n",
       "      <th>...</th>\n",
       "      <td>...</td>\n",
       "      <td>...</td>\n",
       "      <td>...</td>\n",
       "      <td>...</td>\n",
       "    </tr>\n",
       "    <tr>\n",
       "      <th>19994</th>\n",
       "      <td>gcf_001904655cyc</td>\n",
       "      <td>Chroogloeocystis siderophila</td>\n",
       "      <td>SAMN05890687</td>\n",
       "      <td>3</td>\n",
       "    </tr>\n",
       "    <tr>\n",
       "      <th>19995</th>\n",
       "      <td>gcf_000025085cyc</td>\n",
       "      <td>Staphylococcus lugdunensis</td>\n",
       "      <td>SAMN02603957</td>\n",
       "      <td>3</td>\n",
       "    </tr>\n",
       "    <tr>\n",
       "      <th>19996</th>\n",
       "      <td>gcf_000307105cyc</td>\n",
       "      <td>Desulfobacula toluolica</td>\n",
       "      <td>SAMEA2272293</td>\n",
       "      <td>3</td>\n",
       "    </tr>\n",
       "    <tr>\n",
       "      <th>19997</th>\n",
       "      <td>gcf_000746025cyc</td>\n",
       "      <td>Thermoanaerosceptrum fracticalcis</td>\n",
       "      <td>SAMN02745515</td>\n",
       "      <td>3</td>\n",
       "    </tr>\n",
       "    <tr>\n",
       "      <th>19998</th>\n",
       "      <td>gcf_000344865cyc</td>\n",
       "      <td>Salmonella enterica</td>\n",
       "      <td>SAMN02415261</td>\n",
       "      <td>3</td>\n",
       "    </tr>\n",
       "  </tbody>\n",
       "</table>\n",
       "<p>19999 rows × 4 columns</p>\n",
       "</div>"
      ],
      "text/plain": [
       "                   pgdb                               name      taxonomy tier\n",
       "0                aracyc               Arabidopsis thaliana           NIL    1\n",
       "1               metacyc                            MetaCyc           NIL    1\n",
       "2                ecocyc                   Escherichia coli        511145    1\n",
       "3              humancyc                       Homo sapiens          9606    1\n",
       "4              yeastcyc           Saccharomyces cerevisiae        559292    1\n",
       "...                 ...                                ...           ...  ...\n",
       "19994  gcf_001904655cyc       Chroogloeocystis siderophila  SAMN05890687    3\n",
       "19995  gcf_000025085cyc         Staphylococcus lugdunensis  SAMN02603957    3\n",
       "19996  gcf_000307105cyc            Desulfobacula toluolica  SAMEA2272293    3\n",
       "19997  gcf_000746025cyc  Thermoanaerosceptrum fracticalcis  SAMN02745515    3\n",
       "19998  gcf_000344865cyc                Salmonella enterica  SAMN02415261    3\n",
       "\n",
       "[19999 rows x 4 columns]"
      ]
     },
     "execution_count": 63,
     "metadata": {},
     "output_type": "execute_result"
    }
   ],
   "source": [
    "mat = load('biocyc_org.pandas')\n",
    "mat"
   ]
  }
 ],
 "metadata": {
  "kernelspec": {
   "display_name": "p311",
   "language": "python",
   "name": "python3"
  },
  "language_info": {
   "name": "python",
   "version": "3.11.0"
  },
  "orig_nbformat": 4,
  "vscode": {
   "interpreter": {
    "hash": "8f652547db4d17d6eeec41a4f37c167557db91fa388bc71de420bb5e3fb7eb5e"
   }
  }
 },
 "nbformat": 4,
 "nbformat_minor": 2
}
