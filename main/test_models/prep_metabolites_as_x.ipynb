{
 "cells": [
  {
   "cell_type": "code",
   "execution_count": 5,
   "metadata": {},
   "outputs": [],
   "source": [
    "import os, sys\n",
    "import numpy as np\n",
    "import pandas as pd\n",
    "\n",
    "from txyl_common.biocyc_facade.pgdb import Pgdb, Dat, Traceable\n",
    "from local.caching import load, save"
   ]
  },
  {
   "cell_type": "code",
   "execution_count": 6,
   "metadata": {},
   "outputs": [
    {
     "name": "stdout",
     "output_type": "stream",
     "text": [
      "1 of 20005: gcf_000468475cyc.pgdb                                                   \r"
     ]
    }
   ],
   "source": [
    "root = \"../../data/txyl_local/biocyc/pgdbs\"\n",
    "pfs = os.listdir(root)\n",
    "total = len(pfs)\n",
    "for i, pf in enumerate(pfs):\n",
    "    print(f\"{i+1} of {total}: {pf} {' '*50}\", end='\\r')\n",
    "    db = Pgdb(f\"{root}/{pf}\")\n",
    "    \n",
    "    def get_ins_outs(v: dict):\n",
    "        direction: str = v.get('REACTION-DIRECTION', ['unk'])[0]\n",
    "        lefts = set(v.get('LEFT', []))\n",
    "        rights = set(v.get('RIGHT', []))\n",
    "\n",
    "        left_o = lefts.difference(rights)\n",
    "        right_o = rights.difference(lefts)\n",
    "        catalysts = lefts.intersection(rights)\n",
    "        \n",
    "        if 'LEFT' not in direction or 'RIGHT' not in direction: # reversible\n",
    "            all = lefts.union(rights)\n",
    "            return all, all, catalysts\n",
    "        else:\n",
    "            li = direction.index('LEFT')\n",
    "            ri = direction.index('RIGHT')\n",
    "\n",
    "            if li < ri:\n",
    "                return left_o, right_o, catalysts\n",
    "            else:\n",
    "                return right_o, left_o, catalysts\n",
    "\n",
    "    consumption, production, catalyst_use = {}, {}, {}\n",
    "    def addc(d: dict, v: str):\n",
    "        d[v] = d.get(v, 0)+1\n",
    "\n",
    "    for k, v in db.GetDataTable(Dat.REACTIONS).items():\n",
    "        ins, outs, cats = get_ins_outs(v)\n",
    "        for lst, ref in zip([ins, outs, cats], [consumption, production, catalyst_use]):\n",
    "            for mol in lst:\n",
    "                addc(ref, mol)\n",
    "\n",
    "    return \n"
   ]
  },
  {
   "cell_type": "code",
   "execution_count": 11,
   "metadata": {},
   "outputs": [],
   "source": [
    "def get_ins_outs(v: dict):\n",
    "    direction: str = v.get('REACTION-DIRECTION', ['unk'])[0]\n",
    "    lefts = set(v.get('LEFT', []))\n",
    "    rights = set(v.get('RIGHT', []))\n",
    "\n",
    "    left_o = lefts.difference(rights)\n",
    "    right_o = rights.difference(lefts)\n",
    "    catalysts = lefts.intersection(rights)\n",
    "    \n",
    "    if 'LEFT' not in direction or 'RIGHT' not in direction: # reversible\n",
    "        all = lefts.union(rights)\n",
    "        return all, all, catalysts\n",
    "    else:\n",
    "        li = direction.index('LEFT')\n",
    "        ri = direction.index('RIGHT')\n",
    "\n",
    "        if li < ri:\n",
    "            return left_o, right_o, catalysts\n",
    "        else:\n",
    "            return right_o, left_o, catalysts\n",
    "\n",
    "consumption, production, catalyst_use = {}, {}, {}\n",
    "def addc(d: dict, v: str):\n",
    "    d[v] = d.get(v, 0)+1\n",
    "\n",
    "for k, v in db.GetDataTable(Dat.REACTIONS).items():\n",
    "    ins, outs, cats = get_ins_outs(v)\n",
    "    for lst, ref in zip([ins, outs, cats], [consumption, production, catalyst_use]):\n",
    "        for mol in lst:\n",
    "            addc(ref, mol)"
   ]
  },
  {
   "cell_type": "code",
   "execution_count": 13,
   "metadata": {},
   "outputs": [
    {
     "data": {
      "text/plain": [
       "{'PROTON': 22,\n",
       " 'AMMONIUM': 1,\n",
       " 'L-LACTATE': 1,\n",
       " 'MG+2': 1,\n",
       " 'CO+2': 1,\n",
       " 'CPD0-2350': 2,\n",
       " 'Pi': 3,\n",
       " 'GLUCONATE': 1,\n",
       " 'SPERMIDINE': 1,\n",
       " 'PUTRESCINE': 1,\n",
       " '1-4-alpha-D-Glucan': 1,\n",
       " 'Unfolded-Proteins': 1,\n",
       " 'ACET': 1,\n",
       " 'F-': 1,\n",
       " 'RHAMNOSE': 1,\n",
       " '3-Hydroxy-Terminated-DNAs': 1,\n",
       " 'TYPEIV-EFFECTOR-PROTEINS': 1,\n",
       " 'Long-Chain-Polyphosphate': 2,\n",
       " 'CPD-763': 1,\n",
       " 'CPD-17989': 1,\n",
       " 'THIOL-GROUP': 1,\n",
       " 'Glutamates': 1,\n",
       " 'ZN+2': 2,\n",
       " 'BETAINE': 1,\n",
       " 'BIOTIN': 1,\n",
       " 'ssRNAs': 1,\n",
       " 'Polysulfides': 2,\n",
       " 'NITRATE': 1,\n",
       " '1-5-L-Arabinooligosaccharides': 1,\n",
       " 'CIT': 1,\n",
       " 'ENTEROBACTIN': 1,\n",
       " 'Bases': 1,\n",
       " 'Deoxy-Ribonucleosides': 1,\n",
       " 'RNA-Holder': 2,\n",
       " 'FORMYL-THF-GLU-N': 1,\n",
       " 'THF-GLU-N': 1,\n",
       " 'DNA-N': 2,\n",
       " 'N5-Formyl-THF-Glu-N': 1,\n",
       " 'METHYLENE-THF-GLU-N': 1,\n",
       " 'Prolipoprotein-Cysteines': 1,\n",
       " 'CPD-3': 1,\n",
       " 'NA+': 1,\n",
       " 'C6': 1,\n",
       " 'Soluble-Heteroglycans': 1,\n",
       " 'CPD-17927': 1,\n",
       " 'Maltodextrins': 1,\n",
       " 'Glucans': 1,\n",
       " 'ARSENATE': 1,\n",
       " 'Chitodextrins': 1,\n",
       " 'ECTOINE': 1,\n",
       " 'SULFATE': 1,\n",
       " 'CU+2': 1,\n",
       " 'NICOTINAMIDE_RIBOSE': 1,\n",
       " 'GLYCEROL': 1}"
      ]
     },
     "execution_count": 13,
     "metadata": {},
     "output_type": "execute_result"
    }
   ],
   "source": [
    "catalyst_use"
   ]
  },
  {
   "cell_type": "code",
   "execution_count": 4,
   "metadata": {},
   "outputs": [
    {
     "name": "stdout",
     "output_type": "stream",
     "text": [
      "{'TYPES': ['Enzymatic-Reactions'], 'COMMON-NAME': ['acetyl-CoA carboxylase carboxyltransferase subunit alpha/beta'], 'BASIS-FOR-ASSIGNMENT': [':AUTOMATED-NAME-MATCH'], 'ENZYME': ['DZ96_RS0232580-MONOMER'], 'INSTANCE-NAME-TEMPLATE': ['ENZRXN-*'], 'PHYSIOLOGICALLY-RELEVANT?': ['T'], 'REACTION': ['ACETYL-COA-CARBOXYLTRANSFER-RXN']}\n"
     ]
    },
    {
     "data": {
      "text/plain": [
       "{':AUTOMATED-NAME-MATCH'}"
      ]
     },
     "execution_count": 4,
     "metadata": {},
     "output_type": "execute_result"
    }
   ],
   "source": [
    "assign_methods = set()\n",
    "\n",
    "for k, v in db.GetDataTable(Dat.ENZYMES).items():\n",
    "    ak = \"BASIS-FOR-ASSIGNMENT\"\n",
    "    assert ak in v\n",
    "    assign_methods.add(v[ak][0])\n",
    "    print(v)\n",
    "    break\n",
    "    \n",
    "assign_methods"
   ]
  },
  {
   "cell_type": "code",
   "execution_count": 5,
   "metadata": {},
   "outputs": [],
   "source": [
    "BL = {':INFERRED-TRANSPORT-RXN', ':PATHWAY-HOLE-FILLER'}"
   ]
  }
 ],
 "metadata": {
  "kernelspec": {
   "display_name": "p311",
   "language": "python",
   "name": "python3"
  },
  "language_info": {
   "codemirror_mode": {
    "name": "ipython",
    "version": 3
   },
   "file_extension": ".py",
   "mimetype": "text/x-python",
   "name": "python",
   "nbconvert_exporter": "python",
   "pygments_lexer": "ipython3",
   "version": "3.11.0"
  },
  "orig_nbformat": 4,
  "vscode": {
   "interpreter": {
    "hash": "8f652547db4d17d6eeec41a4f37c167557db91fa388bc71de420bb5e3fb7eb5e"
   }
  }
 },
 "nbformat": 4,
 "nbformat_minor": 2
}
