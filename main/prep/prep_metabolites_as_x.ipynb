{
 "cells": [
  {
   "cell_type": "code",
   "execution_count": 1,
   "metadata": {},
   "outputs": [],
   "source": [
    "import os, sys\n",
    "import numpy as np\n",
    "import pandas as pd\n",
    "import json\n",
    "\n",
    "# from txyl_common.biocyc_facade.pgdb import Pgdb, Dat, Traceable\n",
    "from local.caching import load, save"
   ]
  },
  {
   "cell_type": "code",
   "execution_count": 2,
   "metadata": {},
   "outputs": [
    {
     "name": "stdout",
     "output_type": "stream",
     "text": [
      "metabolite_usage_3.json                           \r"
     ]
    },
    {
     "data": {
      "text/plain": [
       "19999"
      ]
     },
     "execution_count": 2,
     "metadata": {},
     "output_type": "execute_result"
    }
   ],
   "source": [
    "root = './cache/'\n",
    "usage_data = []\n",
    "for f in sorted(list(os.listdir(root))):\n",
    "    if not f.startswith('metabolite_usage'): continue\n",
    "    with open(f'{root}/{f}') as j:\n",
    "        usage_data += json.load(j)\n",
    "    print(f'{f} {\" \"*25}', end='\\r')\n",
    "\n",
    "len(usage_data)"
   ]
  },
  {
   "cell_type": "code",
   "execution_count": 3,
   "metadata": {},
   "outputs": [
    {
     "name": "stdout",
     "output_type": "stream",
     "text": [
      "{'L-CYSTATHIONINE': 3, 'UTP': 8, 'CPD-12575': 3, 'PPI': 12, 'GLC-1-P': 4, 'PROTON': 333, 'ACP': 5, 'MALONYL-COA': 5, 'Hydroxymethylbilane-Synthase-ES2': 1, 'PORPHOBILINOGEN': 5, 'HYDROGEN-PEROXIDE': 13, 'MET': 12, 'WATER': 400, 'CPD0-2351': 2, 'NAD': 62, 'Dihydro-Lipoyl-Proteins': 1, 'CPD-13339': 2, 'HYDROXYMUCONATE-SALD': 1, 'NADH': 52, 'S-NITROSOGLUTATHIONE': 2, '2-D-THREO-HYDROXY-3-CARBOXY-ISOCAPROATE': 4, 'CPD-9451': 2, 'PROTEIN-L-BETA-ISOASPARTATES': 1, 'S-ADENOSYLMETHIONINE': 71, 'CPD-17968': 1, 'Protein-With-N-Terminal-X-Pro': 2, 'Purine-ribonucleosides-5-PPP': 1, 'ADENOSYLCOBINAMIDE': 3, 'ATP': 210, 'LysW-L-glutamate': 1, 'CPD-12185': 1, 'Alpha-lactose': 1, 'Acceptor': 8, 'BryP-ACP': 1, 'Hydroxymethylbilane-Synthase-ES3': 1, 'Pi': 31, 'CPD-16459': 1, 'MUTATED-TRNA': 1, 'Oxo-glutarate-dehydrogenase-DH-lipoyl': 1, 'DIHYDROXY-ACETONE-PHOSPHATE': 10, 'Arsenite-ArsD': 1, 'OXYGEN-MOLECULE': 42, 'Cytochromes-C-Reduced': 2, 'CPD-679': 1, 'GTP': 16, 'L-CITRULLINE': 3, 'CARBAMOYL-P': 4, 'L-ORNITHINE': 3, 'Single-Stranded-DNAs': 2, 'Ribonucleoside-Triphosphates': 1, 'Hydroxymethylbilane-Synthase-ES4': 1, 'CPD-19512': 1, 'HSCN': 1, '23S-rRNA-guanine-2551': 1, 'PROTEIN-LIPOYLLYSINE': 2, 'DIHYDROLIPOYL-GCVH': 2, 'NADP': 13, 'MAL': 6, 'CPD-1242': 1, 'NADPH': 64, '3-HYDROXY-3-METHYL-GLUTARYL-COA': 1, 'Ribosomal-protein-L3-L-glutamine': 1, '2-DEHYDRO-3-DEOXY-D-GLUCONATE': 2, 'CPD-19169': 1, 'CO-A': 42, '3-CARBOXY-3-HYDROXY-ISOCAPROATE': 2, 'MALONYL-ACP': 20, 'G3P': 5, '2-PG': 4, 'FUM': 6, 'R-3-Hydroxypalmitoyl-ACPs': 2, 'R-3-hydroxy15-methylhexadecanoyl-ACPs': 2, 'CPD-24236': 1, 'L-ASPARTATE': 13, 'O-UREIDOHOMOSERINE': 1, 'CPD-401': 1, 'Protein-Histidines': 5, '23-DIPHOSPHOGLYCERATE': 4, 'Protein-pi-phospho-L-histidines': 5, 'CPD-16758': 2, 'PedD-ACP': 1, 'CPD-17932': 1, 'PLASTOQUINONE': 2, 'SUC': 13, 'ACETYL-COA': 18, 'DIHYDROLIPOAMIDE': 1, 'D-SEDOHEPTULOSE-7-P': 3, 'D-ALPHABETA-D-HEPTOSE-7-PHOSPHATE': 2, 'NAD-P-OR-NOP': 3, 'S-HYDROXYMETHYLGLUTATHIONE': 1, 'HYPOXANTHINE': 4, 'E-': 30, 'CPD-14845': 1, 'CPD-17947': 1, 'GLYCEROL-3P': 4, 'ETR-Quinones': 7, 'Beta-hydroxydecanoyl-ACPs': 2, 'UDP-N-ACETYL-D-GLUCOSAMINE': 13, 'ADENOSYLCOBINAMIDE-P': 1, 'OXALACETIC_ACID': 13, 'FRUCTOSE-6P': 7, 'CPD-15709': 1, 'ETF-Oxidized': 9, 'CPD-10267': 1, '3-HYDROXY-ANTHRANILATE': 1, '7-8-DIHYDROPTEROATE': 1, 'GLT': 35, 'L-GLUTAMATE-5-P': 2, 'HOMO-SER': 2, 'SUC-COA': 7, 'Adenylated-ThiS-Proteins': 3, 'L-Cysteine-Desulfurase-persulfide': 6, 'Donor-H2': 14, 'General-Protein-Substrates': 7, 'CIS-DELTA3-ENOYL-COA': 1, 'SoxY-Thiocysteine-S-Sulfate': 1, 'N5-Formyl-THF-Glu-N': 1, 'CARNOSINE': 1, '4a-Hydroxytetrahydroopteridines': 1, 'CPD-17926': 4, 'BryU-ACP': 1, 'DIAMINONONANOATE': 3, 'CARBON-DIOXIDE': 16, 'CPD-7682': 1, 'ALLYSINE': 2, 'CPD-196': 1, 'Pyruvate-dehydrogenase-acetylDHlipoyl': 1, 'PHE': 7, 'CPD-13378': 1, 'ERYTHROSE-4P': 5, 'THF-GLU-N': 6, 'AMMONIUM': 19, 'AMINOMETHYLDIHYDROLIPOYL-GCVH': 2, 'METHYLENE-THF-GLU-N': 9, 'C1': 2, '3R-11Z-3-hydroxy-icos-11-enoyl-ACPs': 1, 'L-ARGININO-SUCCINATE': 1, 'CPD1ZN3-1': 1, 'MESO-DIAMINOPIMELATE': 2, 'LYS': 2, 'Cytidine-34-tRNAIle2': 1, 'CPD-15590': 1, 'D-galactopyranose': 1, 'HEXANOYL-COA': 1, 'HYDROXYMETHYLBILANE': 3, 'RIBOSE-5P': 3, 'RIBULOSE-5P': 5, '11Z-3-oxo-icos-11-enoyl-ACPs': 1, 'AMMONIA': 1, 'CPD-15436': 1, 'PYRUVATE': 15, 'Pyruvate-dehydrogenase-lipoate': 3, '3-HYDROXY-L-KYNURENINE': 1, 'CPD-8180': 1, 'CANAVANINE': 1, 'CANAVANINOSUCCINATE': 1, 'THIAMINE-PYROPHOSPHATE': 1, 'GLY': 14, 'Protein-N-terminal-5-oxo-prolines': 1, 'LL-DIAMINOPIMELATE': 1, '2-ALPHA-HYDROXYETHYL-THPP': 1, 'CPD-19144': 1, '2-KETOGLUTARATE': 23, 'CPD-380': 1, 'L-CYSTEATE': 1, 'Glycogens': 3, '5Z-3-oxo-tetradec-5-enoyl-ACPs': 1, 'Peptides-with-Leader-Sequence': 1, 'S2O3': 5, 'SoxZY-L-Cysteine': 1, 'Cytochromes-C-Oxidized': 7, 'Reduced-CycA1-cytochromes': 1, 'Ubiquinones': 8, 'Oxidized-CycA1-cytochromes': 2, 'Ubiquinols': 6, '2-KETO-ISOVALERATE': 5, 'GLUTATHIONE': 19, 'L-ALA-GAMMA-D-GLU-DAP': 1, 'UDP-N-ACETYLMURAMATE': 3, 'Dipeptides-With-Asp-At-N-Terminal': 1, 'HS': 5, 'CPD-846': 2, '4-MALEYL-ACETOACETATE': 1, 'OLEOYL-COA': 1, 'CIT': 2, 'THREO-DS-ISO-CITRATE': 6, 'CPD-19171': 1, 'CDPDIACYLGLYCEROL': 2, 'SER': 9, '9Z-3-oxo-octadec-9-enoyl-ACPs': 1, 'Peptidoglycans': 1, 'DNA-N': 3, 'CPD0-1082': 2, 'R-3-hydroxymyristoyl-ACPs': 3, 'CIS-ACONITATE': 2, '3-P-HYDROXYPYRUVATE': 2, 'Long-Chain-Polyphosphate': 1, 'ADP': 22, '2-AMINO-3-3-OXOPROP-2-ENYL-BUT-2-ENEDI': 1, 'SoxY-Thiocysteine-Sulfate': 1, 'Proteins-with-N-Terminal-L-Glutamine': 1, 'CPD0-1032': 1, 'EF-P-L-lysine': 1, 'P-HYDROXY-PHENYLPYRUVATE': 3, 'TYR': 4, '3-oxo-palmitoyl-ACPs': 1, 'CARBAMYUL-L-ASPARTATE': 1, 'HOMO-CYS': 4, '5-METHYL-THF-GLU-N': 2, 'CPD0-1162': 2, 'CPD0-1158': 2, 'CPD-7221': 1, 'CPD-7222': 2, 'N-terminal-L-cysteine': 1, 'CPD0-1080': 2, 'L-ALPHA-ALANINE': 7, 'CPD-14736': 2, 'ANTHRANILATE': 2, 'BUTYRYL-COA': 2, 'ETF-Reduced': 1, 'CROTONYL-COA': 2, 'Supercoiled-Duplex-DNAs': 2, 'SoxY-S-Thiocysteine': 1, 'DCTP': 2, 'TRP': 4, 'INDOLE_PYRUVATE': 1, 'B-KETOACYL-ACP': 1, 'METHIONINE-SYNTHASE-METHYLCOBALAMIN': 1, 'CPD-9995': 1, 'NORSPERMIDINE': 1, '3-oxo-stearoyl-ACPs': 1, 'CPD-12310': 2, 'L-methionyl-glycyl-Protein': 1, 'CTP': 10, 'CPD-12377': 6, 'tRNA-Arg-inosine34': 1, 'tRNA-Arg-adenosine34': 1, 'DNA-3-methyladenines': 1, 'ACETYLSERINE': 2, 'CPD-678': 2, '23S-rRNA-uridine1911-1915-1917': 1, 'CPD-16458': 1, 'CPD0-1718': 1, 'CPD-15184': 1, '23S-rRNA-guanine-2445': 1, 'carboxybiotin-L-lysine-in-BCCP-dimers': 1, 'ACYL-SN-GLYCEROL-3P': 2, 'ACYL-ACP': 3, 'SPERMIDINE': 1, 'CPD-10012': 1, 'THIAMINE-P': 1, 'PHENYL-PYRUVATE': 4, '7Z-3-oxo-hexadec-7-enoyl-ACPs': 1, '2-ACETO-LACTATE': 2, 'GLYCERATE': 3, 'OH-PYR': 3, 'Phosphoserines': 1, '5-PHOSPHO-RIBOSYL-GLYCINEAMIDE': 1, 'FORMYL-THF-GLU-N': 6, 'NADH-P-OR-NOP': 12, 'S-ADENOSYLMETHIONINAMINE': 2, 'PUTRESCINE': 1, '3-oxo-cis-D9-hexadecenoyl-ACPs': 1, 'HCO3': 12, 'H2CO3': 2, 'CPD0-2283': 1, 'DEAMIDO-NAD': 2, '23S-rRNA-guanine-2069': 1, 'A-LIPID-HYDROPEROXIDE': 1, 'R-3-HYDROXYPALMITOYL-ACP': 1, 'PROT-CYS': 8, 'NITRIC-OXIDE': 1, 'GDP': 7, 'GMP': 3, '3-oxo-myristoyl-ACPs': 1, 'CPD-1091': 1, 'CPD-15818': 3, 'D-Ribofuranose': 1, '5-PHOSPHORIBOSYL-N-FORMYLGLYCINEAMIDINE': 1, 'Cytochromes-Cm552-Red': 1, 'CPD-690': 1, 'GLN': 17, 'DELTA3-ISOPENTENYL-PP': 5, 'FARNESYL-PP': 3, 'ACETOACETYL-COA': 4, 'Protein-nitrosothiol-L-alanine': 1, 'CPD2B4Q-13': 2, 'CPD2B4Q-14': 1, '3-P-SERINE': 2, 'CPD-9612': 2, 'Cytochromes-Cm552-Ox': 1, 'CPD-17927': 3, 'CPD-17931': 2, 'CPD-19833': 1, '2K-4CH3-PENTANOATE': 3, 'LEU': 3, '2-ACETO-2-HYDROXY-BUTYRATE': 1, '5-HYDROXYISOURATE': 1, 'Lipoyl-Protein-L-Lysine': 1, 'Octanoyl-ACPs': 3, 'Protein-S-Acetyl-Cysteines': 2, 'PRPP': 11, 'GUANOSINE-5DP-3DP': 1, 'Reduced-ferredoxins': 8, 'HYDROXY-METHYL-BUTENYL-DIP': 3, 'DEPHOSPHO-COA': 1, 'CYS': 13, 'Loaded-MCD-Chaperones': 1, 'R-3-hydroxystearoyl-ACPs': 1, 'Protein-Ox-Disulfides': 3, 'ADENOSYL-P4': 1, 'METHIONYL-PEPTIDE': 1, 'FORMYL-L-METHIONYL-PEPTIDE': 1, 'FORMATE': 2, '3-Oxo-octanoyl-ACPs': 1, 'Ox-Glutaredoxins': 1, 'GDP-TP': 2, 'S-ALLANTOIN': 2, 'CPD-5821': 1, 'Red-Glutaredoxins': 3, 'HYDROXYLAMINE': 2, 'Oxidized-NrdH-Proteins': 3, 'Reduced-NrdH-Proteins': 4, 'DGDP': 4, 'Oxidized-Flavoproteins': 1, 'COB-I-ALAMIN': 1, 'Charged-fMET-tRNAs': 1, '3-oxo-decanoyl-ACPs': 1, 'CPD-24235': 1, 'ARSENATE': 2, 'MPT-Synthase-small-subunits': 1, 'UDP': 7, 'Red-Thioredoxin': 14, 'L-DELTA1-PYRROLINE_5-CARBOXYLATE': 4, 'CPD-12118': 1, 'ARG-tRNAs': 2, 'ARG': 3, '1-4-alpha-D-Glucan': 4, 'Arsenate-Reductase-Cysteines': 1, 'CPD-12259': 2, 'L-1-GLYCEROPHOSPHORYLETHANOL-AMINE': 2, 'L-GLUTAMATE_GAMMA-SEMIALDEHYDE': 2, 'CPD-8887': 1, '3-Ketopimeloyl-ACP-methyl-esters': 1, 'CHORISMATE': 4, 'ALLANTOATE': 1, 'CPD-22407': 1, 'Thiarsahydroxy-ArsC': 1, 'CPD-8122': 1, 'CPD-3': 1, 'RNASE-III-MRNA-PROCESSING-SUBSTRATE': 1, '16S-rRNA-pseudouridine516': 1, '16S-rRNA-uridine516': 1, 'AMP': 7, 'Thiarsahydroxy-SG-ArsC': 1, 'L-methionyl-L-valyl-Protein': 1, 'CPD-12116': 1, '3-oxo-cis-D7-tetradecenoyl-ACPs': 1, 'UDP-OHMYR-ACETYLGLUCOSAMINE': 1, 'ArsC-S-As-OH': 1, 'CPD-20839': 1, 'CPD0-2106': 1, 'PRO': 4, 'APS': 2, 'PHOSPHORIBOSYL-AMP': 1, 'CPD0-2108': 1, 'L-3-HYDROXYACYL-COA': 2, 'Glycerophosphodiesters': 1, '16S-rRNA-adenine1518-adenine1519': 1, 'DIHYDROXY-BUTANONE-P': 1, 'AMINO-RIBOSYLAMINO-1H-3H-PYR-DIONE': 1, '3-oxo-dodecanoyl-ACPs': 1, '2-OXOBUTANOATE': 2, 'CPD2B4Q-11': 1, 'ISOBUTYRYL-COA': 2, 'CPD-9329': 1, 'DEOXYXYLULOSE-5P': 3, '1-AMINO-PROPAN-2-ONE-3-PHOSPHATE': 1, 'PHOSPHORIBOSYL-ATP': 2, 'Wound-RNA': 1, 'Sulfur-Carrier-Proteins-ThiI': 2, '4-PHOSPHONOOXY-THREONINE': 2, 'BCAA-dehydrogenase-lipoyl': 3, 'BCAA-dehydrogenase-2MP-DH-lipoyl': 2, 'CPD-22238': 1, 'CPD-12117': 1, 'Acetoacetyl-ACPs': 1, '2-KETO-3-METHYL-VALERATE': 1, 'KDO2-LIPID-IVA': 1, 'Palmitoleoyl-ACPs': 2, 'KDO2-PALMITOLEOYL-LIPID-IVA': 1, 'CPD-24237': 1, 'PREPHENATE': 3, 'BCAA-dehydrogenase-DH-lipoyl': 3, 'PHE-tRNAs': 1, 'PHOSPHORIBOSYL-FORMIMINO-AICAR-P': 1, 'b-Keto-cis-D5-dodecenoyl-ACPs': 1, 'CPD-9016': 2, 'D-glucopyranose-6-phosphate': 5, 'CPD-8625': 1, 'CPD-8624': 1, 'S18-N-terminal-L-alanine': 1, 'D-ALANINE': 6, 'Deoxy-Ribonucleoside-Triphosphates': 3, 'CPD0-2030': 1, 'Uridine32-in-tRNA': 2, 'PHOSPHORIBOSYL-CARBOXY-AMINOIMIDAZOLE': 2, 'CPD-12115': 1, '3-oxo-hexanoyl-ACPs': 1, 'CPD-13357': 1, 'CDP': 5, 'Guanine46-in-tRNA': 1, 'Phosphoglucomutase': 2, 'Phosphorylated-phosphoglucomutase': 2, 'ALPHA-GLUCOSE-16-BISPHOSPHATE': 2, 'Alpha-D-aldose-1-phosphates': 1, 'ADP-SUGARS': 1, 'DGTP': 2, 'Hpr-Histidine': 2, 'PHOSPHO-ENOL-PYRUVATE': 15, 'THR-tRNAs': 1, 'THR': 6, 'BISOHMYR-GLC': 1, 'L-HISTIDINOL-P': 2, '3-Ketoglutaryl-ACP-methyl-ester': 1, '23S-rRNA-uracil-1939': 1, 'Glycero-3-Phospho-N-Acylethanolamine': 1, 'PTS-I-Histidines': 1, 'VibB': 1, '3-5-ADP': 4, 'holo-VibB': 1, 'CPD0-2244': 1, 'Polynucleotide-Holder': 1, '5-HYDROXYU34-TRNA': 1, 'CPD-15403': 1, 'MONOMER0-4342': 1, 'isocitrate-dehydrogenase': 1, 'Iso-Cit': 2, '3R-9Z-3-hydroxy-octadec-9-enoyl-ACPs': 1, 'PTS-I-pi-phospho-L-histidines': 1, '23S-rRNA-pseudouridine746': 1, '23S-rRNA-uridine746': 1, 'OH-HEXANOYL-COA': 1, 'Glutamine-synthetase-Tyr': 2, 'Glutamine-synthetase-adenylyl-Tyr': 2, 'protein-L-glutamate-O4-methyl-ester': 1, 'OCTAPRENYL-METHOXY-BENZOQUINONE': 1, 'CPD-12304': 1, 'CPD-12303': 2, 'DGMP': 2, 'GLYCEROPHOSPHOGLYCEROL': 1, 'DNA-6-O-Methyl-Guanines': 1, 'Trans-D3-cis-D5-dodecenoyl-ACPs': 1, 'Octanoylated-Gcv-H': 2, 'Gcv-H': 1, 'DUMP': 2, 'AMINO-HYDROXYMETHYL-METHYL-PYR-P': 1, 'DCMP': 2, 'CPD-17048': 1, 'CPD-17047': 1, 'ALGINATE': 2, 'IMIDAZOLE-ACETOL-P': 1, 'CPD-11998': 2, 'CPD-11997': 1, 'UMP': 4, 'Elongation-tRNAMet': 1, 'AMINO-HYDROXYMETHYL-METHYLPYRIMIDINE-PP': 3, 'CPD-13575': 2, 'DNA-Combined-With-Exogenous-DNA': 1, '1-KETO-2-METHYLVALERATE': 1, 'VAL': 2, 'CPD-9720': 4, 'TMP': 2, 'CPD66-21': 1, 'AGMATHINE': 2, 'Oligonucleotides': 1, 'Protein-S-methyl-L-cysteine': 2, 'a-thymine-in-DNA': 1, 'CPD-19186': 1, 'D-6-P-GLUCONO-DELTA-LACTONE': 1, 'ILE': 1, 'ILE-tRNAs': 1, 'N-acetyl-D-mannosamine': 1, 'CPD0-1123': 1, 'Initiation-tRNAmet': 1, 'DIPEPTIDES': 1, 'CPD-784': 1, 'CPD2B4Q-15': 1, 'DAMP': 2, 'CPD0-1163': 1, 'THZ-P': 1, 'FE+2': 4, 'SIROHYDROCHLORIN': 1, 'tRNA-with-7-aminomethyl-7-deazaguanine': 1, 'C4': 2, 'CPD-7695': 2, 'CPD0-2121': 1, 'CPD-13847': 1, 'Deoxy-Ribonucleoside-Monophosphates': 1, 'DIHYDROSIROHYDROCHLORIN': 2, '3-Hydroxy-octanoyl-ACPs': 1, 'Apo-EntF': 1, 'Holo-EntF': 1, '4-HYDROXY-L-PROLINE': 1, 'CIS-4-HYDROXY-D-PROLINE': 1, 'CPD-15244': 1, 'HISTIDINOL': 2, 'N-SUCCINYLLL-2-6-DIAMINOPIMELATE': 1, 'CPD-13576': 1, 'ETR-Quinols': 4, 'L-1-GLYCERO-PHOSPHORYLCHOLINE': 1, 'Fatty-Aldehydes': 2, 'CPD-563': 1, 'HISTIDINAL': 2, 'XANTHINE': 2, 'URATE': 1, 'C5': 1, 'CPD-24128': 1, 'ACYL-COA': 2, 'RIBOFLAVIN': 2, 'Guanine34-in-tRNAs': 1, '7-AMINOMETHYL-7-DEAZAGUANINE': 1, 'Cis-delta-3-decenoyl-ACPs': 2, 'Trans-D2-decenoyl-ACPs': 2, 'Methionine-synthase-cob-I-alamins': 1, 'GAP': 7, 'CPD-187': 1, 'PRO-tRNAs': 1, 'CPD-11855': 1, 'Ribonucleoside-Diphosphates': 1, 'CPD-1086': 2, '5-PHOSPHORIBOSYL-5-AMINOIMIDAZOLE': 3, 'CPD0-2107': 1, 'MALTOSE': 6, 'MALTOTETRAOSE': 2, 'Glucopyranose': 7, 'MALTOTRIOSE': 3, '1-Alkenylglycerophosphoethanolamines': 1, 'CPD-24230': 1, 'TRANS-D2-ENOYL-ACP': 2, 'D-GLT': 1, 'CPD0-1456': 1, 'CPD-9195': 1, '4S5S-45-DIHYDROXY-26-DIOXOHEXANOATE': 2, 'CPD-17705': 1, 'PROPIONATE': 2, 'PROPIONYL-P': 1, 'CPD-9150': 1, 'CPD-9148': 1, '4-OH-4-ACETYL-2-OXOGLUTARATE': 1, 'Dodec-2-enoyl-ACPs': 2, 'D-GLUCOSAMINE-6-P': 3, 'GLUCOSAMINE-1P': 3, 'PURINE': 1, 'tRNA-uridines': 1, 'K-HEXANOYL-COA': 1, 'CPD0-1096': 2, 'Phosphorylated-Phosphoglucosamine-Mutase': 2, 'Phosphoglucosamine-Mutase': 2, 'CPD-12258': 1, 'CPD-9646': 4, 'ZN+2': 1, 'GALACTOSE-1P': 1, 'Beta-Lactams': 1, 'ACET': 5, 'ACETYL-P': 1, '2-AMINOMUCONATE_SEMIALDEHYDE': 1, '2-AMINO-MUCONATE': 1, 'UROPORPHYRINOGEN-III': 3, 'ISOBUTYRATE': 1, 'Diacylglycerol-Prolipoproteins': 2, 'a-mature-triacylated-lipoprotein': 1, 'L-1-PHOSPHATIDYL-ETHANOLAMINE': 2, '2-ACYL-GPE': 1, 'CPD-9863': 1, 'NONAPRENYL-4-HYDROXYBENZOATE': 1, 'Phosphoglycerides': 1, 'C3': 1, 'CPD-15712': 1, 'CPD-1241': 1, 'ALPHA-D-GALACTOSE': 1, 'Glutaryl-ACP-methyl-esters': 1, 'L-PHOSPHATIDATE': 1, 'CPD-19778': 1, 'N2-SUCCINYLGLUTAMATE': 1, 'DIHYDROPTERIN-CH2OH-PP': 1, 'P-AMINO-BENZOATE': 2, 'FAD': 3, 'FMN': 4, 'CPD-9038': 1, 'T2-DECENOYL-COA': 1, '2-3-4-Saturated-L-Phosphatidates': 1, 'D-BETA-D-HEPTOSE-17-DIPHOSPHATE': 2, 'OXALO-SUCCINATE': 2, 'CPD-15056': 1, '3-OCTAPRENYL-4-HYDROXYBENZOATE': 2, 'Nucleoside-Triphosphates': 2, 'DEOXYCYTIDINE': 3, '23S-rRNA-uridine-2552': 1, '1-Acyl-2-Arachidonoyl-Glycerol-P': 1, '3R-7Z-3-hydroxy-hexadec-7-enoyl-ACPs': 1, 'DEOXY-D-RIBOSE-1-PHOSPHATE': 4, 'DEOXYINOSINE': 1, 'GLC-6-P': 1, 'ALPHA-GLC-6-P': 1, 'CPD-16013': 1, 'D-ALA-D-ALA': 2, 'UDP-AAGM-DIAMINOHEPTANEDIOATE': 2, '6-Dimethylallyladenosine37-tRNAs': 2, 'Sulfurated-Sulfur-Acceptors': 9, 'KDO': 2, 'Oxo-glutarate-dehydrogenase-lipoyl': 2, 'tRNA-Containing-5AminoMe-2-ThioUrdines': 2, 'CPD0-1942': 1, 'METOH': 1, 'alpha-N-Peptidyl-LGlutamate': 1, 'HOMOGENTISATE': 1, 'SoxY-S-S-Thiocysteine': 1, 'CPD-7076': 1, 'ASP-tRNAs': 1, 'CPD-9862': 1, 'CPD-9864': 1, 'CPD-209': 1, 'Thi-S': 1, 'CPD-15711': 1, 'MANNOSE-6P': 1, 'GLC': 1, 'ALPHA-GLUCOSE': 2, 'ADENYLOSUCC': 1, 'DUTP': 1, 'RNASE-R-DEGRADATION-SUBSTRATE-RNA': 1, 'LYS2-peptidyl-carrier-protein': 1, 'tRNA-uridine65': 1, 'CPD-19839': 1, 'ETOH': 1, 'ACETALD': 2, 'ISOVALERATE': 1, 'ADP-D-GLYCERO-D-MANNO-HEPTOSE': 1, 'D-BETA-D-HEPTOSE-1-P': 1, 'OH-ACYL-ACP': 1, 'CPD-14931': 1, '10-FORMYL-DIHYDROFOLATE-GLU-N': 1, 'DNA-containing-abasic-Sites': 1, '4-Hydroxy-3-polyprenylbenzoates': 1, 'CPD-22313': 1, '3-hydroxy-cis-D9-hexaecenoyl-ACPs': 1, 'TRANS-3-METHYL-GLUTACONYL-COA': 1, 'GALACTOSE': 1, 'Oxo-glutarate-dehydro-suc-DH-lipoyl': 1, 'P-RIBOSYL-4-SUCCCARB-AMINOIMIDAZOLE': 1, 'IMINOASPARTATE': 1, 'CPD-9853': 1, 'CPD-9852': 1, 'CPD-18238': 1, 'Myo-inositol-monophosphates': 1, '4-AMINO-4-DEOXYCHORISMATE': 1, 'UDP-AA-GLUTAMATE': 1, 'ISOVALERYL-COA': 2, '2-OCTAPRENYL-6-METHOXYPHENOL': 1, 'CARBAMATE': 2, 'STEARIC_ACID': 1, 'CPD-15360': 1, 'ADENINE': 5, 'NITROUS-OXIDE': 2, 'Saturated-Fatty-Acyl-CoA': 2, 'Sulfurylated-ThiI': 2, 'N-Substituted-Aminoacyl-tRNA': 1, 'R-1-AMINOPROPAN-2-YL-PHOSPHATE': 1, 'L-THREONINE-O-3-PHOSPHATE': 1, 'Cis-Delta5-dodecenoyl-ACPs': 1, 'CPD-3762': 1, 'DELTA1-PIPERIDEINE-2-6-DICARBOXYLATE': 2, 'CPD-6702': 1, 'PROTOPORPHYRIN_IX': 2, 'XYLULOSE-5-PHOSPHATE': 3, 'CPD-14443': 1, 'mRNAs-with-5-monophosphate': 1, 'mRNAs-with-5-triphosphate': 1, 'CPD-618': 1, 'Apo-AsbD-Proteins': 1, 'Holo-AsbD-Proteins': 1, 'CPD-12024': 1, '5-AMINO-LEVULINATE': 1, 'tRNA-containing-5-CarbMeAminome-2-ThioU': 1, 'DPG': 2, 'CPD-22403': 1, 'Menaquinols': 3, 'Charged-CYS-tRNAs': 1, 'CYS-tRNAs': 2, 'PepB-Aminopeptidase-Substrates': 1, 'N-ACETYL-D-GLUCOSAMINE-6-P': 1, 'Hydroxymethylbilane-Synthase-Cys': 1, 'CPD-19179': 1, '16S-rRNA-guanine-966': 1, 'Relaxed-DNAs': 1, 'Negatively-super-coiled-DNAs': 1, 'CPD-12792': 1, 'Protein-L-methionine-R-S-oxides': 1, '2-AMINOACRYLATE': 2, 'CPD0-2105': 1, 'D-MYO-INOSITOL-1-MONOPHOSPHATE': 1, 'CPD-12126': 1, 'N-ACETYL-D-GALACTOSAMINE-6-PHOSPHATE': 1, 'D-GALACTOSAMINE-6-PHOSPHATE': 1, 'CYTIDINE': 3, '3-KETOBUTYRATE': 2, 'CPD-335': 1, 'S-3-HYDROXYBUTANOYL-COA': 1, 'CPD-2961': 2, 'PRECURSOR-Z': 2, 'Thiocarboxylated-MPT-synthases': 1, 'CPD-16015': 1, 'D-3-HYDROXYACYL-COA': 1, 'PROPIONYL-COA': 3, 'THYMINE': 1, 'THYMIDINE': 2, 'Double-Stranded-DNAs': 3, 'THIAMINE': 1, 'NA+': 1, 'CPD-1829': 2, 'Corrinoid-Adenosyltransferases': 2, 'Charged-ASN-tRNAs': 1, '2-KETO-3-DEOXY-6-P-GLUCONATE': 1, 'apo-Peptidyl-carrier-proteins': 1, 'TusA-L-cysteine': 1, 'Unstable-RecA-Filament-DNA-Complex': 1, 'B12-Corrinoid-Adenosyltranferase': 1, 'GLYOX': 2, 'D-4-HYDROXY-2-KETO-GLUTARATE': 1, 'VAL-tRNAs': 1, 'Guanine37-in-tRNA': 1, 'URACIL': 1, 'CPD-19168': 1, '1-L-MYO-INOSITOL-1-P': 1, 'CPD0-939': 1, 'DIACYLGLYCEROL': 1, 'CPD-15242': 1, 'PANTOTHENATE': 1, 'SAMP-C-Terminal-thiol': 1, 'Oxidized-NapC-proteins': 2, '2-DEHYDROPANTOATE': 2, 'THMPT': 1, 'METHYLENETETRAHYDROMETHANOPTERIN': 1, 'Alkyl-Hydro-Peroxides': 3, 'CPD-12025': 1, 'Cys2-Peroxiredoxin-Disulfide': 2, 'Red-Prx-Disulfide-Reductases': 2, 'DNA-With-GO-A-Mismatch': 1, 'CPD-1136': 1, 'N-ACETYL-D-GLUCOSAMINE-1-P': 1, '5-P-RIBOSYL-N-FORMYLGLYCINEAMIDE': 1, 'Decanoyl-ACPs': 1, 'Gln-B': 1, 'URIDYLYL-PROTEIN-PII': 1, 'KDO-8P': 1, 'L-PANTOATE': 1, 'B-ALANINE': 1, 'Hepta-oxo-hexadecanoyl-ACPs': 1, 'a-DNA-methyl-phosphotriester': 1, 'All-apo-ACPs': 1, 'Prolipoprotein-Cysteines': 1, 'L-1-PHOSPHATIDYL-GLYCEROL': 1, 'TusE-L-cysteine': 1, 'TusD-Persulfides': 1, 'CPD-6701': 1, 'D-CYSTEINE': 2, 'DEOXYURIDINE': 2, 'Reduced-Flavoproteins': 4, 'CPD-5662': 1, 'Ribosomal-protein-S12-Asp89': 1, 'tRNA-uridine55': 1, 'Plastoquinols': 1, '16S-rRNA-guanine-527': 1, 'Acetoin-Dehydrogenase-E2-Lipoate': 1, 'ACETOIN': 1, 'FRUCTOSE-16-DIPHOSPHATE': 2, '7Z-hexadec-7-enoyl-ACPs': 1, 'CPD0-2354': 1, 'UDP-MURNAC-TETRAPEPTIDE': 1, 'Beta-3-hydroxybutyryl-ACPs': 1, 'DEOXY-RIBOSE-5P': 1, 'CPD-13359': 1, 'DEHYDROQUINATE': 1, '3-KETOACYL-COA': 2, 'CPD-20904': 1, 'Trans-D3-cis-D9-hexadecenoyl-ACPs': 1, 'CPD0-881': 1, 'CPD0-2352': 3, 'PIIPROTEIN-CPLX': 1, 'CPD-6746': 1, 'DADP': 3, 'Trans-D2-cis-D7-tetradecenoyl-ACPs': 1, 'SACCHAROPINE': 1, 'BCAA-dehydrogenase-3MB-DH-lipoyl': 1, 'Mo-bis-MGD-Chaperone-L-cysteine': 2, 'ACRYLYL-COA': 1, 'CHLOROACETIC-ACID': 1, 'CL-': 2, 'GLYCOLLATE': 1, 'CPD-20905': 1, 'GLN-tRNAs': 1, '5-METHYLTHIOADENOSINE': 1, '5-OXOPROLINE': 1, 'Apo-Aryl-Carrier-Proteins': 1, 'biotin-L-lysine-in-BCCP-dimers': 1, 'GERANYL-PP': 2, 'tRNA-Containing-5MeAminoMe-2-ThioU': 1, 'D-SEDOHEPTULOSE-1-7-P2': 1, 'CPD-12366': 1, 'PHENYLACETALDEHYDE': 2, 'S-2-Haloacids': 1, '2-hydroxyacyl-glutathiones': 1, 'L-ASPARTATE-SEMIALDEHYDE': 3, 'CPD-9899': 1, 'CPD-4211': 3, 'LEU-tRNAs': 1, 'CPD-564': 1, 'ADENOSYL-HOMO-CYS': 1, 'GLT-tRNAs': 1, '5-oxyacetylU34-tRNA': 1, 'URIDINE': 2, 'GLY-tRNAs': 1, 'DODECANOATE': 1, 'ALL-TRANS-HEPTAPRENYL-DIPHOSPHATE': 2, 'DIHYDROXYNAPHTHOATE': 1, 'CPD-20903': 2, 'Dipeptides-With-Proline-Carboxy': 1, 'PHOSPHORIBULOSYL-FORMIMINO-AICAR-P': 2, 'CH33ADO': 3, 'GUANINE': 3, 'S-LACTOYL-GLUTATHIONE': 2, 'CPD0-1027': 2, 'D-MYO-INOSITOL-4-PHOSPHATE': 1, 'N-terminal-L-cysteine-sulfinate': 2, 'CPD-22405': 2, 'D-form-FeS-Cluster-Scaffold-Proteins': 1, 'Persulfurated-L-cysteine-desulfurases': 1, '3-Hydroxy-Terminated-DNAs': 2, '5-Phospho-terminated-DNAs': 2, 'Apo-EntB': 1, '16S-rRNA-cytosine967': 1, 'mnm5GeS2U': 1, 'SEPO3': 1, 'DNA-Ligase-L-lysine': 1, 'TYR-tRNAs': 1, 'D-ERYTHRO-IMIDAZOLE-GLYCEROL-P': 1, 'CPD-10330': 1, 'CPD0-1108': 2, 'Menaquinones': 4, 'PROTOPORPHYRINOGEN': 2, 'Lipoprotein-signal-peptide': 1, 'CPD66-39': 1, 'Adenine-34-in-tRNAs': 1, 'Methylated-DNA-Bases': 1, 'DNA-Ligase-L-lysine-adenylate': 1, 'MALTOPENTAOSE': 3, 'N-formyl-L-methionyl-tRNAfmet': 1, 'L-methionyl-tRNAfmet': 1, 'C-nitro-compounds': 1, '23S-rRNA-uridine2604': 1, 'A-5-prime-PP-5-prime-DNA': 1, 'CPD-22847': 1, 'S-CD-Apo-SP-Complex': 1, 'CPD-9116': 1, 'DIHYDRONEOPTERIN-P3': 2, 'RIBOSE-1P': 2, 'Cyclic-N6-threonylcarbamoyl-A37-tRNAs': 1, 'N6-L-threonylcarbamoyladenine37-tRNAs': 1, 'LysW-L-ornithine': 1, 'LysW-L-glutamate-5-semialdehyde': 1, 'CPD-24318': 1, 'CPD-24319': 2, 'TusE-S-sulfanylcysteine': 1, 'tRNA-uridine34': 2, 'CPD0-1965': 1, 'CPD-20746': 1, 'Proteins-L-Threonines': 1, 'CPD-23334': 1, 'PROTOHEME': 1, 'Cytidine-32-tRNAs': 1, 'RNA-Holder': 2, 'Nucleoside-Diphosphates': 2, 'CPD-11763': 1, 'CPD-11281': 3, 'CPD-24232': 1, 'CPD-20906': 1, 'S-CD-S-SP-Complex': 1, 'CPD-9894': 1, 'DEOXYADENOSINE': 4, 'Myristoyl-ACPs': 1, 'NICOTINATE_NUCLEOTIDE': 10, 'mnm5SeP2U': 1, 'CPD-469': 1, 'N-ALPHA-ACETYLORNITHINE': 2, 'CPD0-2353': 2, '4-OXOGLUTARAMATE': 1, 'ERYTHROSE': 1, 'CPD-21527': 1, 'PAPS': 1, 'CPD-20907': 1, 'PHENYLETHYLAMINE': 1, 'CPD-9372': 1, 'TusA-Persulfides': 1, 'TusD-L-cysteine': 1, '3-hydroxypimeloyl-ACP-methyl-esters': 1, 'N-terminal-L-alanine-sulfenate': 1, 'CPD0-181': 1, 'SO3': 4, 'CD-2S-SP-Complex': 1, 'FE+3': 1, 'N-Acetyl-beta-D-Hexosaminides': 1, 'Octadec-2-enoyl-ACPs': 1, 'DEOXYGUANOSINE': 2, 'CPD2B4Q-17': 1, 'CMP-KDO': 8, 'N-SUCCINYL-2-AMINO-6-KETOPIMELATE': 1, 'OROTATE': 2, 'D-Ribopyranose': 1, 'Uracil20-in-tRNAs': 1, '56-Dihydrouracil20-in-tRNAs': 1, 'INDOLE': 1, 'Beta-D-Galactosides': 1, 'NITRATE': 2, 'Reduced-NapC-proteins': 1, 'CPD0-1133': 1, 'D-Hexoses': 1, 'Pimeloyl-ACP-methyl-esters': 1, 'L-GAMMA-GLUTAMYLCYSTEINE': 1, 'Guanine37-in-tRNAPhe': 1, 'FORMYL-ISOGLUTAMINE': 1, 'OH-MYRISTOYL': 2, 'COPROPORPHYRINOGEN_III': 2, 'IMP': 3, 'FeS-Cluster-Co-Chaperones': 1, 'CD-SP-2Fe2S-Complex': 1, 'Charged-GLT-tRNAs': 1, 'CPD-13377': 1, 'PALMITATE': 1, 'CPD0-1081': 1, '23S-rRNA-pseudouridine1915': 1, 'tRNA-uridine-38-40': 1, 'Mo-bis-MGD-Chaperone-Cys-Persulfide': 1, 'Loaded-Mo-bis-MGD-Chaperones': 1, 'F-': 1, 'CPD-7035': 1, '3-DEHYDRO-SHIKIMATE': 1, 'XANTHOSINE-5-PHOSPHATE': 4, 'CPD-822': 2, 'N2-SUCCINYLORNITHINE': 1, 'Stearoyl-ACPs': 1, 'INDOLE-3-GLYCEROL-P': 2, 'GUANOSINE': 2, 'MALTOHEXAOSE': 2, 'OCTAPRENYL-METHYL-METHOXY-BENZQ': 1, 'CPD-19170': 1, 'CPD-22363': 1, 'CPD-13376': 1, 'R-3-hydroxydodecanoyl-ACPs': 3, 'CPD2B4Q-12': 1, 'Ribonucleoside-Monophosphates': 1, 'Co-chaperone-SP-2Fe2S-Complex': 1, 'FeS-Cluster-Chaperones-ATP': 1, 'DI-H-OROTATE': 3, 'NAcMur-Peptide-NAcGlc-Undecaprenols': 2, 'CPD0-2413': 1, 'CPD-12150': 1, 'repressor-LexA': 1, 'SULFATE': 2, 'ADENOSINE': 2, 'CPD-13469': 1, 'NICOTINAMIDE_NUCLEOTIDE': 1, 'Palmitoyl-ACPs': 2, 'Phenyl-Acetates': 1, '2-Octenoyl-ACPs': 1, 'Apo-FeS-cluster-proteins': 1, 'Chap-ATP-Co-chaperone-SP-2Fe2S-Complex': 1, 'D-Amino-Acids': 1, 'L-Amino-Acids': 1, 'CPD-21488': 1, 'Mo-bis-MGD-Chaperones': 1, 'CPD-15873': 1, 'CPD-15384': 1, 'CPD-20750': 1, 'CMP': 2, 'CPD-24442': 1, 'D-RIBULOSE-15-P2': 1, 'GLUTAMIDE': 1, 'Peptide-with-penultimate-Glycine': 1, '4-hydroxybenzoate': 6, 'Reduced-2Fe-2S-Ferredoxins': 6, 'CPD-37': 2, 'Chap-ADP-apo-SP-Complex': 1, 'CARBOXYPHENYLAMINO-DEOXYRIBULOSE-P': 1, 'Release-factor-L-glutamine': 1, 'Proteins-with-incorrect-disulfides': 1, 'Saturated-Fatty-Acyl-ACPs': 1, 'Aromatic-Oxoacids': 1, 'Aromatic-Amino-Acids': 1, '3-KETOLACTOSE': 1, 'ASN': 3, 'CPD-3633': 1, 'CPD0-971': 2, 'HIS': 2, 'HIS-tRNAs': 1, 'Butanoyl-ACPs': 1, 'Polyisoprenyl-Diphosphates': 1, 'Ox-Thioredoxin': 2, 'Protein-L-methionine-S-S-oxides': 1, 'Protein-L-methionine': 1, 'CPD-12642': 2, 'a-pyruvate-dehydrogenase-E2-protein-Nsup': 1, 'Oxidized-2Fe-2S-Ferredoxins': 2, 'Unsulfurated-Sulfur-Acceptors': 2, 'METHYL-GLYOXAL': 2, 'INOSINE': 1, '5-10-METHENYL-THF-GLU-N': 2, 'Oxidized-ferredoxins': 1, '2C-METH-D-ERYTHRITOL-CYCLODIPHOSPHATE': 2, 'PYRROLINE-HYDROXY-CARBOXYLATE': 1, 'DNA-Segment-Placeholder': 1, 'DNA-Segment-in-Reverse-Orientations': 1, 'POLY-GLUCOSYLATED-GLYCOGENINS': 1, 'OLEATE-CPD': 1, 'CPD-21340': 1, 'CHITOBIOSE': 1, 'Carboxyadenylated-MPT-synthases': 1, 'CPD0-882': 1, 'CPD-18118': 2, 'ARABINOSE-5P': 1, 'tRNA-guanosine18': 1, 'CPD-343': 1, 'SE-2': 1, '23S-rRNA-adenine-2503': 1, 'OXIDIZED-GLUTATHIONE': 2, 'Soluble-Heteroglycans': 1, 'SUPER-OXIDE': 1, '3-METHYL-CROTONYL-COA': 1, '4-IMIDAZOLONE-5-PROPIONATE': 3, 'CPD-1302': 1, 'OCTAPRENYL-DIPHOSPHATE': 1, 'CPD-13489': 1, 'XANTHOSINE': 1, 'FORMALDEHYDE': 2, 'N-5-PHOSPHORIBOSYL-ANTHRANILATE': 1, 'LYS-tRNAs': 1, 'ThiS-CoASH-proteins': 1, 'CPD-12279': 2, 'UROCANATE': 1, 'CPD-9610': 1, '3R-5Z-3-hydroxy-tetradec-5-enoyl-ACPs': 1, 'a-2-oxoglutarate-dehydrogenase-E2-protei': 1, 'BISOHMYR-GLUCOSAMINYL-1P': 1, 'TDP': 1, 'CPD-11444': 1, 'CPD0-1699': 1, '2-OCTAPRENYLPHENOL': 1, 'L-methionyl-L-cysteinyl-Protein': 1, 'CPD-20833': 1, 'CPD-4': 1, 'CPD-15159': 1, 'CPD-13043': 1, 'OLIGOPEPTIDES': 1, 'ALL-TRANS-HEXAPRENYL-DIPHOSPHATE': 2, '23S-rRNA-adenine-2030': 1, 'CPD-548': 1, 'Malonyl-acp-methyl-ester': 1, 'Reduced-Cys2-Peroxiredoxins': 1, 'UNDECAPRENYL-DIPHOSPHATE': 5, 'Crotonyl-ACPs': 1, 'Cytosine-32-In-tRNAs': 1, 'Protein-Ser-or-Thr-phosphate': 1, 'D-aspartyl-tRNA-Asp': 1, '2Cys-Peroxiredoxins-With-HydroxyCys': 1, 'CPD-24234': 1, 'CPD-23339': 1, 'DUDP': 1, 'Deoxy-Ribonucleosides': 1, 'CPD-20856': 1, 'Long-Chain-Fatty-Acids': 1, 'CPD-15190': 1, '5Z-tetradec-5-enoyl-ACPs': 1, 'Uracil-54-in-tRNA': 1, '3-hydroxy-cis-D7-tetraecenoyl-ACPs': 1, 'DCDP': 2, 'CPD-13227': 1, 'Protein-Tyrosines': 1, 'D-tyrosyl-tRNA-Tyr': 1, 'Type-1-transmemberane-domains': 1, 'SHIKIMATE': 1, 'glycyl-tRNAAla': 1, 'CPD-13713': 1, 'Octanoylated-domains': 1, 'Fe4S4-Cluster-Protein': 1, 'SELENITE': 1, 'ADENOSYLCOBALAMIN-5-P': 1, 'Cysteine-Desulfurase-L-cysteine': 1, 'ALA-tRNAs': 1, 'CPD-13909': 1, 'Orthophosphoric-Monoesters': 1, 'IS30-with-Integrated-Transposon': 1, 'IS30-Insertion-Sequences': 1, 'D-aminoacyl-tRNAs': 1, 'CPD-13908': 1, '23S-rRNA-guanine-745': 1, '2E-5Z-tetradeca-2-5-dienoyl-ACPs': 1, 'CPD-688': 1, 'CO+2': 1, 'CPD-8978': 1, 'GLYCERALD': 1, 'FRU1P': 1, 'HCN': 2, 'Plastocyanin-Reduced': 1, 'Cis-Delta7-tetradecenoyl-ACPs': 1, '3-DEOXY-D-ARABINO-HEPTULOSONATE-7-P': 2, 'Hex-2-enoyl-ACPs': 1, 'D-Tryptophanyl-tRNA-Trp': 1, 'CPD-24233': 1, 'CPD-24231': 1, 'Oleoyl-ACPs': 1, 'AMINO-OH-HYDROXYMETHYL-DIHYDROPTERIDINE': 1, 'CPD-22307': 1, 'L-methionyl-L-threonyl-Protein': 1, 'CPD-12981': 1, 'Acyl-Phosphates': 2, '2E-9Z-octadeca-2-9-dienoyl-ACPs': 1, 'FADH2': 1, 'tRNA-2-thiouridine34': 2, 'DATP': 1, '2E-7Z-hexadeca-2-7-dienoyl-ACPs': 1, 'DTDP-D-GLUCOSE': 1, 'Protein-With-N-Terminal-Pro': 1, '23S-rRNA-cytidine-2498': 1, '2-Hexadecenoyl-ACPs': 1, 'CPD-18550': 1, 'Aryl-Carrier-Proteins': 1, '2E-11Z-icosa-2-11-dienoyl-ACPs': 1, 'CPD-23445': 1, 'MCD-Chaperones': 1, 'DIHYDROFOLATE-GLU-N': 2, 'CPD-763': 2, 'PROTEIN-PII2': 1, 'Oxidized-Plastocyanins': 1, 'DNA-Adenines': 1, 'CPD-22408': 1, 'DTDP-DEOH-DEOXY-MANNOSE': 1, 'Peptide-with-N-terminal-Alanine': 1, 'N-terminal-L-cysteine-sulfonate': 1, 'Charged-ARG-tRNAs': 5, 'Dodecanoyl-ACPs': 2, 'CPD-18804': 1, 'ENOL-PHENYLPYRUVATE': 1, 'DNA-with-Uracils': 1, 'PYRIDOXAMINE-5P': 1, 'TRP-tRNAs': 1, 'CPD-18321': 1, 'b-Hydroxy-cis-D5-dodecenoyl-ACPs': 1, '67-DIHYDROPTERIDINE': 1, 'CPD-18807': 1, 'CPD-22077': 1, 'CPD0-2123': 1, 'Protein-phospho-L-histidines': 1, '2-OCTAPRENYL-6-HYDROXYPHENOL': 1, 'L-arginyl-L-aspartyl-Peptides': 1, 'Proteins-With-N-Terminal-Asp': 1, 'O-PHOSPHO-L-HOMOSERINE': 2, 'Enoylpimeloyl-ACP-methyl-esters': 1, 'CPD-22333': 1, 'CPD-24335': 1, 'DTDP-DEOH-DEOXY-GLUCOSE': 1, 'DIMETHYLBENZIMIDAZOLE': 1, '3Z-dodec-3-enoyl-ACPs': 1, 'Proteins-with-N-Terminal-L-Glutamate': 1, 'AMINO-OXOBUT': 2, 'DIHYDRONEOPTERIN-P': 1, 'Protein-tauphospho-L-histidines': 1, 'CPD-16954': 1, 'CPD-16953': 1, 'CPD-7100': 1, 'CPD-22406': 1, 'KDO-LIPID-IVA': 2, '5678-TETRAHYDROPTERIDINE': 1, 'L-1-PHOSPHATIDYL-GLYCEROL-P': 1, 'L-Glutamyl-Peptides': 1, 'PYRIDOXINE-5P': 1, 'CPDQT-520': 1, 'Peptidoglycan-dimer': 1, 'CPD-18320': 1, 'tRNAs-Asp-with-queuosine': 1, '4-CYTIDINE-5-DIPHOSPHO-2-C': 1, 'CPD-22404': 1, 'Tetradec-2-enoyl-ACPs': 1, 'OCTAPRENYL-METHYL-OH-METHOXY-BENZQ': 1, '4-FUMARYL-ACETOACETATE': 1, 'Protein-N-terminal-L-Lysine': 2, 'Charged-LEU-tRNAs': 2, 'L-methionyl-L-alanyl-Protein': 1, 'tRNA-adenine-37': 1, 'CPD-15435': 1, 'CPD-17989': 1, 'Unfolded-Proteins': 1, 'Reduced-flavodoxins': 1, 'Glucans': 1, 'CPD-600': 1, 'Amino-Acids-20': 2, 'CPD-18497': 1, '7-CYANO-7-DEAZAGUANINE': 1, 'CPD2B4Q-16': 1, 'Protein-N-terminal-L-Arginine': 2, 'CPD-19167': 1, 'CPD-14553': 1, 'FMNH2': 2, 'MG+2': 1, 'CPD-19395': 1, 'GLYCYLGLYCINE': 1, 'CYS-GLY': 1, 'D-LACTATE': 1, 'CPD-622': 1, 'Pimeloyl-ACPs': 1, 'Maltodextrins': 1, 'Charged-PHE-tRNAs': 2, 'CPD-18323': 1, 'CPD-24229': 1, '3OH-4P-OH-ALPHA-KETOBUTYRATE': 1, 'CPD-16470': 1, '5-HYDROXY-CTP': 1, 'TTP': 1, 'CPD-9421': 1, 'BIOTIN': 2, 'BCCP-L-lysine': 2, 'Hexanoyl-ACPs': 1, 'Uracil-tRNAs': 1, 'R-3-hydroxyhexanoyl-ACPs': 1, 'BIO-5-AMP': 1, 'LIPID-IV-A': 1, 'tRNA-precursors': 2, '5-L-GLUTAMYL-PEPTIDE': 1, 'Amino-Acids': 1, 'CPD-1118': 1, 'Long-linear-glucans': 1, 'Short-Alpha-14-Glucans': 1, 'CPD-19753': 1, 'BENZIMIDAZOLE': 1, 'CPD-22402': 1, 'ALLO-THR': 1, 'Enoylglutaryl-ACP-methyl-esters': 1, 'UDP-ACETYL-CARBOXYVINYL-GLUCOSAMINE': 1, 'SHIKIMATE-5P': 1, 'N-FORMIMINO-L-GLUTAMATE': 1, 'LEUKOTRIENE-C4': 1, 'CPD-20852': 1, '23S-rRNA-uridine2605': 1, 'tRNA-Sec': 1, 'CPD-13122': 1, 'CPD-19172': 1, 'QUINOLINATE': 1, 'CPD-320': 1, 'CPD-18495': 1, 'CPD0-2554': 1, 'UBIQUINONE-6': 2, 'type-IV-prepillin': 1, 'UDP-MANNAC': 1, 'CPD-407': 1, 'CPD-642': 1, 'SER-tRNAs': 1, 'tRNAs-containing-epoxy-quenosine': 1, 'L-ALPHA-AMINO-EPSILON-KETO-PIMELATE': 1, 'CPD-9699': 1, '8-Oxo-dGTP': 1, 'ASN-tRNAs': 1, 'DIHYDRO-NEO-PTERIN': 1, 'L-methionyl-L-seryl-Protein': 1, 'CPD-217': 1, 'CPD-321': 1, '16S-rRNA-cytidine1402': 2, 'tRNA-Adenosines-37': 1, 'CPD-18066': 1, 'CPD-18065': 1, 'Protein-alpha-L-Glutamates': 1, 'ADENOSYLCOBINAMIDE-GDP': 5, 'CPD-20838': 1, 'CPD0-2040': 2, 'OROTIDINE-5-PHOSPHATE': 1, 'CPD-643': 1, '8-AMINO-7-OXONONANOATE': 1, 'S-ADENOSYL-4-METHYLTHIO-2-OXOBUTANOATE': 1, 'Peptidoglycan-with-L-lysine-pentapeptide': 1, 'ssRNAs': 1, 'Truncated-Limit-Dextrins': 1, 'Protein-L-serine-or-L-threonine': 1, 'CPD-7046': 1, 'DIMETHYL-D-RIBITYL-LUMAZINE': 1, 'C6': 1, 'CPD-19217': 1, 'Reduced-Cytochromes-C6': 1, 'L-BETA-ASPARTYL-P': 1, 'UDP-OHMYR-GLUCOSAMINE': 1, 'PANTETHEINE-P': 1, 'RNASE-E-MRNA-PROCESSING-SUBSTRATE': 1, 'CPD-5881': 1, 'CPD-602': 1, 'AICAR': 1, 'ERYTHRONATE-4P': 1, 'CPD-12297': 1, 'CPD-20851': 1, 'Oxidized-Cytochromes-C6': 1, 'CPD-651': 1, 'CPD-12231': 1, 'Cys-tRNA-Pro': 1, '3-Hydroxyglutaryl-ACP-methyl-ester': 1, 'O-SUCCINYL-L-HOMOSERINE': 3, 'a-purine-base-lesion-in-DNA': 1, 'CPD-12260': 1, 'CPD-11984': 1, 'RNASE-G-DEGRADATION-SUBSTRATE-MRNA': 1, 'DIAMINO-OH-PHOSPHORIBOSYLAMINO-PYR': 1, 'PHOSPHORIBOSYL-FORMAMIDO-CARBOXAMIDE': 1, 'DETHIOBIOTIN': 2, 'TRANS-D2-ENOYL-COA': 1, 'a-double-stranded-DNA-with-a-blunt-end': 1, 'A-RECA-PROTEIN': 1, 'CPD-24238': 1, 'SELENATE': 1, 'DNA-containing-diamino-hydro-formamidops': 1, 'CPD-12295': 1, 'Alpha-Amyloses': 1, 'CO3': 1, 'CPD-662': 1, '2-C-METHYL-D-ERYTHRITOL-4-PHOSPHATE': 1, '5-P-BETA-D-RIBOSYL-AMINE': 1, 'ALPHA-RIBAZOLE-5-P': 1, 'CPD-7671': 1, 'RNASE-E-DEGRADATION-SUBSTRATE-MRNA': 1, 'CPD-10809': 1, 'Cytidine-34-tRNAs': 1, 'DNA-With-GO': 1, 'GLUTAMATE-1-SEMIALDEHYDE': 1, 'CPD-12307': 1, 'CPD-12308': 1, 'N-FORMYLKYNURENINE': 1, '9S-RRNA': 1, 'HSO3': 1, 'CPD-14415': 1, 'CPD-675': 1, '2-PHOSPHO-4-CYTIDINE-5-DIPHOSPHO-2-C-MET': 1, 'CD-S-SP-Complex': 1, 'CPD-20756': 1, 'CPD-20757': 1, 'an-oxidized-NrfB-protein': 2, 'CPD-20829': 1, 'RNA-DNA-hybrids': 1, '5-carbo-me-ami-me-ur-34-tRNALeu': 1, '16S-rRNA-uracil1498': 1, 'BCCP-biotin-L-lysine': 1, 'CPD-11770': 1, 'Protein-With-N-Terminal-Met': 1, 'CcmCDE-Complex-Heme': 1, 'CcmAB-Complex': 1, 'CPD-17969': 1, 'CPD-7224': 1, '23S-rRNA-uridine955-2504-2580': 1, 'CPD-421': 1, 'R-4-PHOSPHOPANTOTHENOYL-L-CYSTEINE': 1, 'CPD-686': 1, 'Carboxylates': 1, '3R-3-hydroxy13-methyltetradecanoyl-ACPs': 1, 'PedN-ACP': 1, 'Holo-Hydroxymethylbilane-Synthase': 1, 'RNASE-II-POLY-A-SUBSTRATE-MRNA': 1, 'L-1-PHOSPHATIDYL-SERINE': 1, 'N-ACETYL-GLUTAMYL-P': 1, 'tRNA-uridine13': 1, 'CPD-20826': 1, '4-P-PANTOTHENATE': 1, 'Hydroxymethylbilane-Synthase-ES': 1, 'RNASE-II-DEGRADATION-SUBSTRATE-MRNA': 1, 'Pyruvate-dehydrogenase-dihydrolipoate': 1, 'ArsD': 1, 'CPD-22658': 1, '3-ENOLPYRUVYL-SHIKIMATE-5P': 1, 'ACETYL-GLU': 1, 'CPD-687': 1, 'L-Cysteine-Desulfurases': 1}\n"
     ]
    }
   ],
   "source": [
    "for id, ins, outs, cats in usage_data:\n",
    "    print(ins)\n",
    "    break"
   ]
  },
  {
   "cell_type": "code",
   "execution_count": 4,
   "metadata": {},
   "outputs": [
    {
     "data": {
      "text/plain": [
       "(14845, 16711, 1125)"
      ]
     },
     "execution_count": 4,
     "metadata": {},
     "output_type": "execute_result"
    }
   ],
   "source": [
    "fi, fo, fc = {}, {}, {}\n",
    "for id, ins, outs, cats in usage_data:\n",
    "    for ref, lst in zip([fi, fo, fc], [ins, outs, cats]):\n",
    "        for c in lst:\n",
    "            if c in ref: continue\n",
    "            ref[c] = len(ref)\n",
    "\n",
    "flens = len(fi), len(fo), len(fc)\n",
    "flens"
   ]
  },
  {
   "cell_type": "code",
   "execution_count": 5,
   "metadata": {},
   "outputs": [
    {
     "data": {
      "text/plain": [
       "32681"
      ]
     },
     "execution_count": 5,
     "metadata": {},
     "output_type": "execute_result"
    }
   ],
   "source": [
    "features = {}\n",
    "for pre, ref in zip(\"i, o, c\".split(', '), [fi, fo, fc]):\n",
    "    for k, _ in ref.items():\n",
    "        features[f\"{pre}_{k}\"] = len(features)\n",
    "len(features)"
   ]
  },
  {
   "cell_type": "code",
   "execution_count": 6,
   "metadata": {},
   "outputs": [
    {
     "data": {
      "text/plain": [
       "array([[3, 8, 3, ..., 0, 0, 0],\n",
       "       [1, 8, 5, ..., 0, 0, 0],\n",
       "       [1, 8, 5, ..., 0, 0, 0],\n",
       "       ...,\n",
       "       [3, 7, 5, ..., 0, 0, 0],\n",
       "       [0, 7, 1, ..., 0, 0, 0],\n",
       "       [2, 6, 3, ..., 0, 0, 0]], dtype=uint16)"
      ]
     },
     "execution_count": 6,
     "metadata": {},
     "output_type": "execute_result"
    }
   ],
   "source": [
    "xlen, ylen = len(usage_data), len(features)\n",
    "ids = []\n",
    "mat = np.ndarray(shape=(xlen, ylen), dtype=np.ushort)\n",
    "for row_i, (id, ins, outs, cats) in enumerate(usage_data):\n",
    "    ids.append(id)\n",
    "    for pre, usage in zip(\"i, o, c\".split(', '), [ins, outs, cats]):\n",
    "        for k, c in usage.items():\n",
    "            key = f\"{pre}_{k}\"\n",
    "            i = features[key]\n",
    "            mat[row_i, i] = c\n",
    "\n",
    "mat"
   ]
  },
  {
   "cell_type": "code",
   "execution_count": 11,
   "metadata": {},
   "outputs": [],
   "source": [
    "flst = ['']*len(features)\n",
    "for k, i in features.items():\n",
    "    flst[i] = k"
   ]
  },
  {
   "cell_type": "code",
   "execution_count": 14,
   "metadata": {},
   "outputs": [],
   "source": [
    "df = pd.DataFrame(mat, index=ids, columns=flst, dtype=np.ushort)"
   ]
  },
  {
   "cell_type": "code",
   "execution_count": 15,
   "metadata": {},
   "outputs": [
    {
     "name": "stdout",
     "output_type": "stream",
     "text": [
      "compressing & caching data to [{WORKSPACE}/main/prep/cache/biocyc_metabolite_usage.pkl.gz]\n"
     ]
    }
   ],
   "source": [
    "save('biocyc_metabolite_usage', df)"
   ]
  },
  {
   "cell_type": "code",
   "execution_count": 27,
   "metadata": {},
   "outputs": [
    {
     "data": {
      "text/plain": [
       "['c_UDP-GLUCURONATE',\n",
       " 'c_CPD-12575',\n",
       " 'c_NOREPINEPHRINE',\n",
       " 'c_Nucleoside-Monophosphates',\n",
       " 'c_3-4-DIHYDROXYBENZOATE']"
      ]
     },
     "execution_count": 27,
     "metadata": {},
     "output_type": "execute_result"
    }
   ],
   "source": [
    "flst[-5:]"
   ]
  },
  {
   "cell_type": "code",
   "execution_count": 6,
   "metadata": {},
   "outputs": [
    {
     "name": "stdout",
     "output_type": "stream",
     "text": [
      "1 of 20005: gcf_000468475cyc.pgdb                                                   \r"
     ]
    }
   ],
   "source": [
    "# root = \"../../data/txyl_local/biocyc/pgdbs\"\n",
    "# pfs = os.listdir(root)\n",
    "# total = len(pfs)\n",
    "# for i, pf in enumerate(pfs):\n",
    "#     print(f\"{i+1} of {total}: {pf} {' '*50}\", end='\\r')\n",
    "#     db = Pgdb(f\"{root}/{pf}\")\n",
    "    \n",
    "#     def get_ins_outs(v: dict):\n",
    "#         direction: str = v.get('REACTION-DIRECTION', ['unk'])[0]\n",
    "#         lefts = set(v.get('LEFT', []))\n",
    "#         rights = set(v.get('RIGHT', []))\n",
    "\n",
    "#         left_o = lefts.difference(rights)\n",
    "#         right_o = rights.difference(lefts)\n",
    "#         catalysts = lefts.intersection(rights)\n",
    "        \n",
    "#         if 'LEFT' not in direction or 'RIGHT' not in direction: # reversible\n",
    "#             all = lefts.union(rights)\n",
    "#             return all, all, catalysts\n",
    "#         else:\n",
    "#             li = direction.index('LEFT')\n",
    "#             ri = direction.index('RIGHT')\n",
    "\n",
    "#             if li < ri:\n",
    "#                 return left_o, right_o, catalysts\n",
    "#             else:\n",
    "#                 return right_o, left_o, catalysts\n",
    "\n",
    "#     consumption, production, catalyst_use = {}, {}, {}\n",
    "#     def addc(d: dict, v: str):\n",
    "#         d[v] = d.get(v, 0)+1\n",
    "\n",
    "#     for k, v in db.GetDataTable(Dat.REACTIONS).items():\n",
    "#         ins, outs, cats = get_ins_outs(v)\n",
    "#         for lst, ref in zip([ins, outs, cats], [consumption, production, catalyst_use]):\n",
    "#             for mol in lst:\n",
    "#                 addc(ref, mol)\n",
    "\n",
    "#     return \n"
   ]
  },
  {
   "cell_type": "code",
   "execution_count": 11,
   "metadata": {},
   "outputs": [],
   "source": [
    "# def get_ins_outs(v: dict):\n",
    "#     direction: str = v.get('REACTION-DIRECTION', ['unk'])[0]\n",
    "#     lefts = set(v.get('LEFT', []))\n",
    "#     rights = set(v.get('RIGHT', []))\n",
    "\n",
    "#     left_o = lefts.difference(rights)\n",
    "#     right_o = rights.difference(lefts)\n",
    "#     catalysts = lefts.intersection(rights)\n",
    "    \n",
    "#     if 'LEFT' not in direction or 'RIGHT' not in direction: # reversible\n",
    "#         all = lefts.union(rights)\n",
    "#         return all, all, catalysts\n",
    "#     else:\n",
    "#         li = direction.index('LEFT')\n",
    "#         ri = direction.index('RIGHT')\n",
    "\n",
    "#         if li < ri:\n",
    "#             return left_o, right_o, catalysts\n",
    "#         else:\n",
    "#             return right_o, left_o, catalysts\n",
    "\n",
    "# consumption, production, catalyst_use = {}, {}, {}\n",
    "# def addc(d: dict, v: str):\n",
    "#     d[v] = d.get(v, 0)+1\n",
    "\n",
    "# for k, v in db.GetDataTable(Dat.REACTIONS).items():\n",
    "#     ins, outs, cats = get_ins_outs(v)\n",
    "#     for lst, ref in zip([ins, outs, cats], [consumption, production, catalyst_use]):\n",
    "#         for mol in lst:\n",
    "#             addc(ref, mol)"
   ]
  },
  {
   "cell_type": "code",
   "execution_count": 4,
   "metadata": {},
   "outputs": [
    {
     "name": "stdout",
     "output_type": "stream",
     "text": [
      "{'TYPES': ['Enzymatic-Reactions'], 'COMMON-NAME': ['acetyl-CoA carboxylase carboxyltransferase subunit alpha/beta'], 'BASIS-FOR-ASSIGNMENT': [':AUTOMATED-NAME-MATCH'], 'ENZYME': ['DZ96_RS0232580-MONOMER'], 'INSTANCE-NAME-TEMPLATE': ['ENZRXN-*'], 'PHYSIOLOGICALLY-RELEVANT?': ['T'], 'REACTION': ['ACETYL-COA-CARBOXYLTRANSFER-RXN']}\n"
     ]
    },
    {
     "data": {
      "text/plain": [
       "{':AUTOMATED-NAME-MATCH'}"
      ]
     },
     "execution_count": 4,
     "metadata": {},
     "output_type": "execute_result"
    }
   ],
   "source": [
    "# assign_methods = set()\n",
    "\n",
    "# for k, v in db.GetDataTable(Dat.ENZYMES).items():\n",
    "#     ak = \"BASIS-FOR-ASSIGNMENT\"\n",
    "#     assert ak in v\n",
    "#     assign_methods.add(v[ak][0])\n",
    "#     print(v)\n",
    "#     break\n",
    "    \n",
    "# assign_methods"
   ]
  },
  {
   "cell_type": "code",
   "execution_count": 5,
   "metadata": {},
   "outputs": [],
   "source": [
    "# BL = {':INFERRED-TRANSPORT-RXN', ':PATHWAY-HOLE-FILLER'}"
   ]
  }
 ],
 "metadata": {
  "kernelspec": {
   "display_name": "p311",
   "language": "python",
   "name": "python3"
  },
  "language_info": {
   "codemirror_mode": {
    "name": "ipython",
    "version": 3
   },
   "file_extension": ".py",
   "mimetype": "text/x-python",
   "name": "python",
   "nbconvert_exporter": "python",
   "pygments_lexer": "ipython3",
   "version": "3.10.8"
  },
  "orig_nbformat": 4,
  "vscode": {
   "interpreter": {
    "hash": "8f652547db4d17d6eeec41a4f37c167557db91fa388bc71de420bb5e3fb7eb5e"
   }
  }
 },
 "nbformat": 4,
 "nbformat_minor": 2
}
