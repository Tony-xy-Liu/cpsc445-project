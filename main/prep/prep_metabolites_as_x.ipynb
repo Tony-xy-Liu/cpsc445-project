{
 "cells": [
  {
   "cell_type": "code",
   "execution_count": 1,
   "metadata": {},
   "outputs": [],
   "source": [
    "import os, sys\n",
    "import numpy as np\n",
    "import pandas as pd\n",
    "import json\n",
    "\n",
    "# from txyl_common.biocyc_facade.pgdb import Pgdb, Dat, Traceable\n",
    "from local.caching import load, save"
   ]
  },
  {
   "cell_type": "code",
   "execution_count": 2,
   "metadata": {},
   "outputs": [
    {
     "name": "stdout",
     "output_type": "stream",
     "text": [
      "metabolite_usage_3.json                           \r"
     ]
    },
    {
     "data": {
      "text/plain": [
       "19999"
      ]
     },
     "execution_count": 2,
     "metadata": {},
     "output_type": "execute_result"
    }
   ],
   "source": [
    "root = './cache/'\n",
    "usage_data = []\n",
    "for f in os.listdir(root):\n",
    "    if not f.startswith('metabolite_usage'): continue\n",
    "    with open(f'{root}/{f}') as j:\n",
    "        usage_data += json.load(j)\n",
    "    print(f'{f} {\" \"*25}', end='\\r')\n",
    "\n",
    "len(usage_data)"
   ]
  },
  {
   "cell_type": "code",
   "execution_count": 4,
   "metadata": {},
   "outputs": [
    {
     "data": {
      "text/plain": [
       "(14845, 16711, 1125)"
      ]
     },
     "execution_count": 4,
     "metadata": {},
     "output_type": "execute_result"
    }
   ],
   "source": [
    "fi, fo, fc = {}, {}, {}\n",
    "for id, ins, outs, cats in usage_data:\n",
    "    for ref, lst in zip([fi, fo, fc], [ins, outs, cats]):\n",
    "        for c in lst:\n",
    "            if c in ref: continue\n",
    "            ref[c] = len(ref)\n",
    "\n",
    "flens = len(fi), len(fo), len(fc)\n",
    "flens"
   ]
  },
  {
   "cell_type": "code",
   "execution_count": 25,
   "metadata": {},
   "outputs": [
    {
     "data": {
      "text/plain": [
       "32681"
      ]
     },
     "execution_count": 25,
     "metadata": {},
     "output_type": "execute_result"
    }
   ],
   "source": [
    "features = {}\n",
    "i = 0\n",
    "for pre, ref in zip(\"i, o, c\".split(', '), [fi, fo, fc]):\n",
    "    for k, _ in ref.items():\n",
    "        features[f\"{pre}_{k}\"] = i\n",
    "        i += 1\n",
    "len(features)"
   ]
  },
  {
   "cell_type": "code",
   "execution_count": 8,
   "metadata": {},
   "outputs": [
    {
     "data": {
      "text/plain": [
       "array([[ 2, 23,  5, ...,  0,  0,  0],\n",
       "       [ 2, 35,  6, ...,  0,  0,  0],\n",
       "       [ 2, 32,  5, ...,  0,  0,  0],\n",
       "       ...,\n",
       "       [ 4, 31,  6, ...,  0,  0,  0],\n",
       "       [ 2,  9,  4, ...,  0,  0,  0],\n",
       "       [ 2, 25,  1, ...,  0,  0,  0]], dtype=uint16)"
      ]
     },
     "execution_count": 8,
     "metadata": {},
     "output_type": "execute_result"
    }
   ],
   "source": [
    "xlen, ylen = len(usage_data), len(features)\n",
    "ids = []\n",
    "mat = np.ndarray(shape=(xlen, ylen), dtype=np.ushort)\n",
    "for row_i, (id, ins, outs, cats) in enumerate(usage_data):\n",
    "    ids.append(id)\n",
    "    for pre, usage in zip(\"i, o, c\".split(', '), [ins, outs, cats]):\n",
    "        for k, c in usage.items():\n",
    "            key = f\"{pre}_{k}\"\n",
    "            i = features[key]\n",
    "            mat[row_i, i] = c\n",
    "\n",
    "mat"
   ]
  },
  {
   "cell_type": "code",
   "execution_count": 26,
   "metadata": {},
   "outputs": [],
   "source": [
    "flst = ['']*len(features)\n",
    "for k, i in features.items():\n",
    "    flst[i] = k"
   ]
  },
  {
   "cell_type": "code",
   "execution_count": 28,
   "metadata": {},
   "outputs": [],
   "source": [
    "df = pd.DataFrame(mat, index=ids, columns=flst, dtype=np.ushort)"
   ]
  },
  {
   "cell_type": "code",
   "execution_count": 31,
   "metadata": {},
   "outputs": [
    {
     "name": "stdout",
     "output_type": "stream",
     "text": [
      "compressing & caching data to [{WORKSPACE}/main/test_models/cache/biocyc_metabolite_usage.pkl.gz]\n"
     ]
    }
   ],
   "source": [
    "save('biocyc_metabolite_usage', df)"
   ]
  },
  {
   "cell_type": "code",
   "execution_count": 27,
   "metadata": {},
   "outputs": [
    {
     "data": {
      "text/plain": [
       "['c_UDP-GLUCURONATE',\n",
       " 'c_CPD-12575',\n",
       " 'c_NOREPINEPHRINE',\n",
       " 'c_Nucleoside-Monophosphates',\n",
       " 'c_3-4-DIHYDROXYBENZOATE']"
      ]
     },
     "execution_count": 27,
     "metadata": {},
     "output_type": "execute_result"
    }
   ],
   "source": [
    "flst[-5:]"
   ]
  },
  {
   "cell_type": "code",
   "execution_count": 6,
   "metadata": {},
   "outputs": [
    {
     "name": "stdout",
     "output_type": "stream",
     "text": [
      "1 of 20005: gcf_000468475cyc.pgdb                                                   \r"
     ]
    }
   ],
   "source": [
    "# root = \"../../data/txyl_local/biocyc/pgdbs\"\n",
    "# pfs = os.listdir(root)\n",
    "# total = len(pfs)\n",
    "# for i, pf in enumerate(pfs):\n",
    "#     print(f\"{i+1} of {total}: {pf} {' '*50}\", end='\\r')\n",
    "#     db = Pgdb(f\"{root}/{pf}\")\n",
    "    \n",
    "#     def get_ins_outs(v: dict):\n",
    "#         direction: str = v.get('REACTION-DIRECTION', ['unk'])[0]\n",
    "#         lefts = set(v.get('LEFT', []))\n",
    "#         rights = set(v.get('RIGHT', []))\n",
    "\n",
    "#         left_o = lefts.difference(rights)\n",
    "#         right_o = rights.difference(lefts)\n",
    "#         catalysts = lefts.intersection(rights)\n",
    "        \n",
    "#         if 'LEFT' not in direction or 'RIGHT' not in direction: # reversible\n",
    "#             all = lefts.union(rights)\n",
    "#             return all, all, catalysts\n",
    "#         else:\n",
    "#             li = direction.index('LEFT')\n",
    "#             ri = direction.index('RIGHT')\n",
    "\n",
    "#             if li < ri:\n",
    "#                 return left_o, right_o, catalysts\n",
    "#             else:\n",
    "#                 return right_o, left_o, catalysts\n",
    "\n",
    "#     consumption, production, catalyst_use = {}, {}, {}\n",
    "#     def addc(d: dict, v: str):\n",
    "#         d[v] = d.get(v, 0)+1\n",
    "\n",
    "#     for k, v in db.GetDataTable(Dat.REACTIONS).items():\n",
    "#         ins, outs, cats = get_ins_outs(v)\n",
    "#         for lst, ref in zip([ins, outs, cats], [consumption, production, catalyst_use]):\n",
    "#             for mol in lst:\n",
    "#                 addc(ref, mol)\n",
    "\n",
    "#     return \n"
   ]
  },
  {
   "cell_type": "code",
   "execution_count": 11,
   "metadata": {},
   "outputs": [],
   "source": [
    "# def get_ins_outs(v: dict):\n",
    "#     direction: str = v.get('REACTION-DIRECTION', ['unk'])[0]\n",
    "#     lefts = set(v.get('LEFT', []))\n",
    "#     rights = set(v.get('RIGHT', []))\n",
    "\n",
    "#     left_o = lefts.difference(rights)\n",
    "#     right_o = rights.difference(lefts)\n",
    "#     catalysts = lefts.intersection(rights)\n",
    "    \n",
    "#     if 'LEFT' not in direction or 'RIGHT' not in direction: # reversible\n",
    "#         all = lefts.union(rights)\n",
    "#         return all, all, catalysts\n",
    "#     else:\n",
    "#         li = direction.index('LEFT')\n",
    "#         ri = direction.index('RIGHT')\n",
    "\n",
    "#         if li < ri:\n",
    "#             return left_o, right_o, catalysts\n",
    "#         else:\n",
    "#             return right_o, left_o, catalysts\n",
    "\n",
    "# consumption, production, catalyst_use = {}, {}, {}\n",
    "# def addc(d: dict, v: str):\n",
    "#     d[v] = d.get(v, 0)+1\n",
    "\n",
    "# for k, v in db.GetDataTable(Dat.REACTIONS).items():\n",
    "#     ins, outs, cats = get_ins_outs(v)\n",
    "#     for lst, ref in zip([ins, outs, cats], [consumption, production, catalyst_use]):\n",
    "#         for mol in lst:\n",
    "#             addc(ref, mol)"
   ]
  },
  {
   "cell_type": "code",
   "execution_count": 4,
   "metadata": {},
   "outputs": [
    {
     "name": "stdout",
     "output_type": "stream",
     "text": [
      "{'TYPES': ['Enzymatic-Reactions'], 'COMMON-NAME': ['acetyl-CoA carboxylase carboxyltransferase subunit alpha/beta'], 'BASIS-FOR-ASSIGNMENT': [':AUTOMATED-NAME-MATCH'], 'ENZYME': ['DZ96_RS0232580-MONOMER'], 'INSTANCE-NAME-TEMPLATE': ['ENZRXN-*'], 'PHYSIOLOGICALLY-RELEVANT?': ['T'], 'REACTION': ['ACETYL-COA-CARBOXYLTRANSFER-RXN']}\n"
     ]
    },
    {
     "data": {
      "text/plain": [
       "{':AUTOMATED-NAME-MATCH'}"
      ]
     },
     "execution_count": 4,
     "metadata": {},
     "output_type": "execute_result"
    }
   ],
   "source": [
    "# assign_methods = set()\n",
    "\n",
    "# for k, v in db.GetDataTable(Dat.ENZYMES).items():\n",
    "#     ak = \"BASIS-FOR-ASSIGNMENT\"\n",
    "#     assert ak in v\n",
    "#     assign_methods.add(v[ak][0])\n",
    "#     print(v)\n",
    "#     break\n",
    "    \n",
    "# assign_methods"
   ]
  },
  {
   "cell_type": "code",
   "execution_count": 5,
   "metadata": {},
   "outputs": [],
   "source": [
    "# BL = {':INFERRED-TRANSPORT-RXN', ':PATHWAY-HOLE-FILLER'}"
   ]
  }
 ],
 "metadata": {
  "kernelspec": {
   "display_name": "p311",
   "language": "python",
   "name": "python3"
  },
  "language_info": {
   "codemirror_mode": {
    "name": "ipython",
    "version": 3
   },
   "file_extension": ".py",
   "mimetype": "text/x-python",
   "name": "python",
   "nbconvert_exporter": "python",
   "pygments_lexer": "ipython3",
   "version": "3.11.0"
  },
  "orig_nbformat": 4,
  "vscode": {
   "interpreter": {
    "hash": "8f652547db4d17d6eeec41a4f37c167557db91fa388bc71de420bb5e3fb7eb5e"
   }
  }
 },
 "nbformat": 4,
 "nbformat_minor": 2
}
