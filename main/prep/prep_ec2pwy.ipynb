{
 "cells": [
  {
   "cell_type": "code",
   "execution_count": 48,
   "metadata": {},
   "outputs": [],
   "source": [
    "import os, sys\n",
    "import numpy as np\n",
    "import pandas as pd\n",
    "\n",
    "from txyl_common.biocyc_facade.pgdb import Pgdb, Dat\n",
    "from local.caching import load, save"
   ]
  },
  {
   "cell_type": "code",
   "execution_count": 12,
   "metadata": {},
   "outputs": [
    {
     "data": {
      "text/plain": [
       "19999"
      ]
     },
     "execution_count": 12,
     "metadata": {},
     "output_type": "execute_result"
    }
   ],
   "source": [
    "x: np.ndarray = np.load('../../data/txyl_local/biocyc/biocyc.ECs.matrix.npy', allow_pickle=True)\n",
    "len(x)"
   ]
  },
  {
   "cell_type": "code",
   "execution_count": 17,
   "metadata": {},
   "outputs": [],
   "source": [
    "x2 = x.astype(bool)"
   ]
  },
  {
   "cell_type": "code",
   "execution_count": 32,
   "metadata": {},
   "outputs": [
    {
     "name": "stdout",
     "output_type": "stream",
     "text": [
      "compressing & caching data to [{WORKSPACE}/main/test_models/cache/biocyc_org-ec.matrix.pkl.gz]\n"
     ]
    }
   ],
   "source": [
    "save('biocyc_org-ec.matrix', x2, compression_level=7)"
   ]
  },
  {
   "cell_type": "code",
   "execution_count": 30,
   "metadata": {},
   "outputs": [
    {
     "data": {
      "text/plain": [
       "7853"
      ]
     },
     "execution_count": 30,
     "metadata": {},
     "output_type": "execute_result"
    }
   ],
   "source": [
    "ecm: dict = np.load('../../data/txyl_local/biocyc/biocyc.ECs.mappings.npy', allow_pickle=True).item()\n",
    "eclst = ['']*len(ecm)\n",
    "for k, i in ecm.items():\n",
    "    eclst[i] = k\n",
    "ecarr = np.array(eclst, dtype=str)\n",
    "len(ecarr)"
   ]
  },
  {
   "cell_type": "code",
   "execution_count": 33,
   "metadata": {},
   "outputs": [
    {
     "name": "stdout",
     "output_type": "stream",
     "text": [
      "compressing & caching data to [{WORKSPACE}/main/test_models/cache/biocyc_ec.list.pkl.gz]\n"
     ]
    }
   ],
   "source": [
    "save('biocyc_ec.list', ecarr, compression_level=7)"
   ]
  },
  {
   "cell_type": "code",
   "execution_count": 42,
   "metadata": {},
   "outputs": [
    {
     "data": {
      "text/plain": [
       "'array indexes match that of samples | each info tuple is (pgdb name, common name, strain, ncbi taxonomy #, tier)'"
      ]
     },
     "execution_count": 42,
     "metadata": {},
     "output_type": "execute_result"
    }
   ],
   "source": [
    "headers, _orgs = np.load('../../data/txyl_local/biocyc/biocyc.mappings.npy', allow_pickle=True)\n",
    "headers"
   ]
  },
  {
   "cell_type": "code",
   "execution_count": 61,
   "metadata": {},
   "outputs": [
    {
     "data": {
      "text/html": [
       "<div>\n",
       "<style scoped>\n",
       "    .dataframe tbody tr th:only-of-type {\n",
       "        vertical-align: middle;\n",
       "    }\n",
       "\n",
       "    .dataframe tbody tr th {\n",
       "        vertical-align: top;\n",
       "    }\n",
       "\n",
       "    .dataframe thead th {\n",
       "        text-align: right;\n",
       "    }\n",
       "</style>\n",
       "<table border=\"1\" class=\"dataframe\">\n",
       "  <thead>\n",
       "    <tr style=\"text-align: right;\">\n",
       "      <th></th>\n",
       "      <th>pgdb</th>\n",
       "      <th>name</th>\n",
       "      <th>taxonomy</th>\n",
       "      <th>tier</th>\n",
       "    </tr>\n",
       "  </thead>\n",
       "  <tbody>\n",
       "    <tr>\n",
       "      <th>0</th>\n",
       "      <td>aracyc</td>\n",
       "      <td>Arabidopsis thaliana</td>\n",
       "      <td>NIL</td>\n",
       "      <td>1</td>\n",
       "    </tr>\n",
       "    <tr>\n",
       "      <th>1</th>\n",
       "      <td>metacyc</td>\n",
       "      <td>MetaCyc</td>\n",
       "      <td>NIL</td>\n",
       "      <td>1</td>\n",
       "    </tr>\n",
       "    <tr>\n",
       "      <th>2</th>\n",
       "      <td>ecocyc</td>\n",
       "      <td>Escherichia coli</td>\n",
       "      <td>511145</td>\n",
       "      <td>1</td>\n",
       "    </tr>\n",
       "    <tr>\n",
       "      <th>3</th>\n",
       "      <td>humancyc</td>\n",
       "      <td>Homo sapiens</td>\n",
       "      <td>9606</td>\n",
       "      <td>1</td>\n",
       "    </tr>\n",
       "    <tr>\n",
       "      <th>4</th>\n",
       "      <td>yeastcyc</td>\n",
       "      <td>Saccharomyces cerevisiae</td>\n",
       "      <td>559292</td>\n",
       "      <td>1</td>\n",
       "    </tr>\n",
       "    <tr>\n",
       "      <th>5</th>\n",
       "      <td>gcf_000153825cyc</td>\n",
       "      <td>Synechococcus sp. RS9916</td>\n",
       "      <td>SAMN02436107</td>\n",
       "      <td>2</td>\n",
       "    </tr>\n",
       "    <tr>\n",
       "      <th>6</th>\n",
       "      <td>sent99287cyc</td>\n",
       "      <td>Salmonella enterica</td>\n",
       "      <td>99287</td>\n",
       "      <td>2</td>\n",
       "    </tr>\n",
       "    <tr>\n",
       "      <th>7</th>\n",
       "      <td>ecoo157cyc</td>\n",
       "      <td>Escherichia coli</td>\n",
       "      <td>155864</td>\n",
       "      <td>2</td>\n",
       "    </tr>\n",
       "    <tr>\n",
       "      <th>8</th>\n",
       "      <td>pchabaudicyc</td>\n",
       "      <td>Plasmodium chabaudi</td>\n",
       "      <td>5825</td>\n",
       "      <td>2</td>\n",
       "    </tr>\n",
       "    <tr>\n",
       "      <th>9</th>\n",
       "      <td>synwh8102cyc</td>\n",
       "      <td>Synechococcus sp. WH 8102</td>\n",
       "      <td>84588</td>\n",
       "      <td>2</td>\n",
       "    </tr>\n",
       "    <tr>\n",
       "      <th>10</th>\n",
       "      <td>gcf_000006965cyc</td>\n",
       "      <td>Sinorhizobium meliloti</td>\n",
       "      <td>PRJNA57603</td>\n",
       "      <td>2</td>\n",
       "    </tr>\n",
       "    <tr>\n",
       "      <th>11</th>\n",
       "      <td>pabtqvlccyc</td>\n",
       "      <td>Candidatus Portiera aleyrodidarum</td>\n",
       "      <td>1239881</td>\n",
       "      <td>2</td>\n",
       "    </tr>\n",
       "  </tbody>\n",
       "</table>\n",
       "</div>"
      ],
      "text/plain": [
       "                pgdb                               name      taxonomy tier\n",
       "0             aracyc               Arabidopsis thaliana           NIL    1\n",
       "1            metacyc                            MetaCyc           NIL    1\n",
       "2             ecocyc                   Escherichia coli        511145    1\n",
       "3           humancyc                       Homo sapiens          9606    1\n",
       "4           yeastcyc           Saccharomyces cerevisiae        559292    1\n",
       "5   gcf_000153825cyc           Synechococcus sp. RS9916  SAMN02436107    2\n",
       "6       sent99287cyc                Salmonella enterica         99287    2\n",
       "7         ecoo157cyc                   Escherichia coli        155864    2\n",
       "8       pchabaudicyc                Plasmodium chabaudi          5825    2\n",
       "9       synwh8102cyc          Synechococcus sp. WH 8102         84588    2\n",
       "10  gcf_000006965cyc             Sinorhizobium meliloti    PRJNA57603    2\n",
       "11       pabtqvlccyc  Candidatus Portiera aleyrodidarum       1239881    2"
      ]
     },
     "execution_count": 61,
     "metadata": {},
     "output_type": "execute_result"
    }
   ],
   "source": [
    "header = \"pgdb, name, taxonomy, tier\".split(', ')\n",
    "orgs = [[p, n, tax, tier] for p, n, _, tax, tier in _orgs]\n",
    "df = pd.DataFrame(orgs, columns=header, dtype=\"string\")\n",
    "df.head(12)"
   ]
  },
  {
   "cell_type": "code",
   "execution_count": 54,
   "metadata": {},
   "outputs": [
    {
     "name": "stdout",
     "output_type": "stream",
     "text": [
      "compressing & caching data to [{WORKSPACE}/main/test_models/cache/biocyc_org.pandas.pkl.gz]\n"
     ]
    }
   ],
   "source": [
    "save(\"biocyc_org.pandas\", df, compression_level=7)"
   ]
  },
  {
   "cell_type": "code",
   "execution_count": 60,
   "metadata": {},
   "outputs": [
    {
     "data": {
      "text/plain": [
       "5        SAMN02436107\n",
       "6               99287\n",
       "7              155864\n",
       "8                5825\n",
       "9               84588\n",
       "             ...     \n",
       "19994    SAMN05890687\n",
       "19995    SAMN02603957\n",
       "19996    SAMEA2272293\n",
       "19997    SAMN02745515\n",
       "19998    SAMN02415261\n",
       "Name: taxonomy, Length: 19994, dtype: string"
      ]
     },
     "execution_count": 60,
     "metadata": {},
     "output_type": "execute_result"
    }
   ],
   "source": [
    "df.taxonomy[5:]"
   ]
  }
 ],
 "metadata": {
  "kernelspec": {
   "display_name": "p311",
   "language": "python",
   "name": "python3"
  },
  "language_info": {
   "codemirror_mode": {
    "name": "ipython",
    "version": 3
   },
   "file_extension": ".py",
   "mimetype": "text/x-python",
   "name": "python",
   "nbconvert_exporter": "python",
   "pygments_lexer": "ipython3",
   "version": "3.11.0"
  },
  "orig_nbformat": 4,
  "vscode": {
   "interpreter": {
    "hash": "8f652547db4d17d6eeec41a4f37c167557db91fa388bc71de420bb5e3fb7eb5e"
   }
  }
 },
 "nbformat": 4,
 "nbformat_minor": 2
}
