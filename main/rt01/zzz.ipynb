{
 "cells": [
  {
   "cell_type": "code",
   "execution_count": 2,
   "metadata": {},
   "outputs": [
    {
     "name": "stdout",
     "output_type": "stream",
     "text": [
      "recovering & decompressing cached data from [{WORKSPACE}/main/rt01/cache/biocyc_org-ec.matrix.pkl.gz]\n",
      "[[ True  True  True ... False False False]\n",
      " [ True  True  True ... False False False]\n",
      " [ True  True  True ... False False False]\n",
      " ...\n",
      " [False  True False ... False False False]\n",
      " [ True  True  True ... False False False]\n",
      " [ True  True False ... False False False]]\n",
      "recovering & decompressing cached data from [{WORKSPACE}/main/rt01/cache/biocyc_ec.list.pkl.gz]\n",
      "['EC-2.7.1.2' 'EC-6.3.3.1' 'EC-3.5.2.9' ... 'EC-4.3.99.1' 'EC-1.13'\n",
      " 'EC-1.1.1.155']\n"
     ]
    }
   ],
   "source": [
    "import sys\n",
    "sys.path = list(set([\n",
    "    \"../../lib/\",\n",
    "] + sys.path))\n",
    "from local.caching import load, save, cache_fn_result\n",
    "\n",
    "mat = load ('biocyc_org-ec.matrix')\n",
    "print(mat)\n",
    "x = load('biocyc_ec.list')\n",
    "print(x)"
   ]
  },
  {
   "cell_type": "code",
   "execution_count": 3,
   "metadata": {},
   "outputs": [],
   "source": [
    "def to_words():\n",
    "    return [[w for b, w in zip(row, x) if b] for row in mat]\n",
    "\n",
    "words = to_words()"
   ]
  },
  {
   "cell_type": "code",
   "execution_count": 4,
   "metadata": {},
   "outputs": [
    {
     "data": {
      "text/plain": [
       "19999"
      ]
     },
     "execution_count": 4,
     "metadata": {},
     "output_type": "execute_result"
    }
   ],
   "source": [
    "len(words)"
   ]
  },
  {
   "cell_type": "code",
   "execution_count": 5,
   "metadata": {},
   "outputs": [],
   "source": [
    "import tomotopy as tp\n",
    "import numpy as np\n",
    "from sklearn.model_selection import KFold"
   ]
  },
  {
   "cell_type": "code",
   "execution_count": 5,
   "metadata": {},
   "outputs": [],
   "source": [
    "np.random.seed(12345)\n",
    "swords = np.empty(shape=(len(words),), dtype=object)\n",
    "for i, row in enumerate(words):\n",
    "    swords[i] = row\n",
    "np.random.shuffle(swords)\n",
    "\n",
    "log_lls = []\n",
    "for k in [10, 100, 1000]:\n",
    "    kf = KFold(n_splits=5)\n",
    "    for train, test in kf.split(swords):\n",
    "        train, test = swords[train], swords[test]\n",
    "\n",
    "        mdl = tp.CTModel(k=k)\n",
    "        for word in train:\n",
    "            mdl.add_doc(word)\n",
    "        mdl.train(20)\n",
    "\n",
    "        docs = [mdl.make_doc(w) for w in test]\n",
    "        log_ll = np.mean(mdl.infer(docs)[1])\n",
    "        log_lls.append(log_ll)\n",
    "\n",
    "    np.random.shuffle(swords)"
   ]
  },
  {
   "cell_type": "code",
   "execution_count": 6,
   "metadata": {},
   "outputs": [
    {
     "name": "stdout",
     "output_type": "stream",
     "text": [
      "[-5434.902631255865, -5384.205547480039, -5376.335005171001, -5419.804604634344, -5412.332764704426]\n"
     ]
    }
   ],
   "source": [
    "np.random.seed(12345)\n",
    "swords = np.empty(shape=(len(words),), dtype=object)\n",
    "for i, row in enumerate(words):\n",
    "    swords[i] = row\n",
    "np.random.shuffle(swords)\n",
    "\n",
    "log_lls = []\n",
    "for k in [10]:\n",
    "    kf = KFold(n_splits=5)\n",
    "    for train, test in kf.split(swords):\n",
    "        train, test = swords[train], swords[test]\n",
    "\n",
    "        mdl = tp.CTModel(k=k)\n",
    "        for word in train:\n",
    "            mdl.add_doc(word)\n",
    "        mdl.train(20)\n",
    "\n",
    "        docs = [mdl.make_doc(w) for w in test]\n",
    "        log_ll = np.mean(mdl.infer(docs)[1])\n",
    "        log_lls.append(log_ll)\n",
    "\n",
    "    np.random.shuffle(swords)\n",
    "print(log_lls)"
   ]
  },
  {
   "cell_type": "code",
   "execution_count": 7,
   "metadata": {},
   "outputs": [],
   "source": [
    "log_lls = []\n",
    "for k in [100]:\n",
    "    kf = KFold(n_splits=5)\n",
    "    for train, test in kf.split(swords):\n",
    "        train, test = swords[train], swords[test]\n",
    "\n",
    "        mdl = tp.CTModel(k=k)\n",
    "        for word in train:\n",
    "            mdl.add_doc(word)\n",
    "        mdl.train(20)\n",
    "\n",
    "        docs = [mdl.make_doc(w) for w in test]\n",
    "        log_ll = np.mean(mdl.infer(docs)[1])\n",
    "        log_lls.append(log_ll)\n",
    "\n",
    "    np.random.shuffle(swords)\n",
    "print(log_lls)"
   ]
  }
 ],
 "metadata": {
  "kernelspec": {
   "display_name": "tomatopy",
   "language": "python",
   "name": "python3"
  },
  "language_info": {
   "codemirror_mode": {
    "name": "ipython",
    "version": 3
   },
   "file_extension": ".py",
   "mimetype": "text/x-python",
   "name": "python",
   "nbconvert_exporter": "python",
   "pygments_lexer": "ipython3",
   "version": "3.11.0"
  },
  "orig_nbformat": 4,
  "vscode": {
   "interpreter": {
    "hash": "71982251041a9ef41d9ee01401c629fe8ad98276032371d3125d7fd750117ee9"
   }
  }
 },
 "nbformat": 4,
 "nbformat_minor": 2
}
